{
 "cells": [
  {
   "cell_type": "markdown",
   "metadata": {
    "id": "KEY4Mz7AKTn2"
   },
   "source": [
    "#ML Data Cleaning and feature selection"
   ]
  },
  {
   "cell_type": "markdown",
   "metadata": {
    "id": "YyXcN_L9Lq3N"
   },
   "source": [
    "# About Dataset"
   ]
  },
  {
   "cell_type": "markdown",
   "metadata": {
    "id": "_knbq5fpLxQQ"
   },
   "source": [
    "This dataset contains about 10 years of daily weather observations from numerous Australian weather stations.\n",
    "\n",
    "**Taget Variable:**<br>\n",
    "RainTomorrow - The amount of next day rain in mm. Used to\n",
    "\n",
    "*   RainTomorrow - The amount of next day rain in mm. Used to create response variable RainTomorrow. A kind of measure of the \"risk\"\n",
    "\n",
    "**Independent Variables:**<br>\n",
    "* Date - Date of observation<br>\n",
    "* Location - The common name of the location of the weather station<br>\n",
    "* MinTemp - The minimum temperature in degrees celsius<br>\n",
    "* MaxTemp - The maximum temperature in degrees celsius<br>\n",
    "* Rainfall - The amount of rainfall recorded for the day in mm<br>\n",
    "* Evaporation - The so-called Class A pan evaporation (mm) in the 24 hours to 9am<br>\n",
    "* Sunshine - The number of hours of bright sunshine in the day.<br>\n",
    "* WindGustDir - The direction of the strongest wind gust in the 24 hours to midnight<br>\n",
    "* WindGustSpeed - The speed (km/h) of the strongest wind gust in the 24 hours to midnight<br>\n",
    "* WindDir9am - Direction of the wind at 9am<br>\n",
    "* WindDir3pm - Direction of the wind at 3pm<br>\n",
    "* WindSpeed9am - Wind speed (km/hr) averaged over 10 minutes prior to 9am<br>\n",
    "* WindSpeed3pm - Wind speed (km/hr) averaged over 10 minutes prior to 3pm<br>\n",
    "* Humidity9am - Humidity (percent) at 9am<br>\n",
    "* Humidity3pm - Humidity (percent) at 3pm<br>\n",
    "* Pressure9am - Atmospheric pressure (hpa) reduced to mean sea level at 9am<br>\n",
    "* Pressure3pm - Atmospheric pressure (hpa) reduced to mean sea level at 3pm<br>\n",
    "* Cloud9am - Fraction of sky obscured by cloud at 9am. This is measured in \"oktas\", which are a unit of eigths. It records how many <br>\n",
    "* Cloud3pm - Fraction of sky obscured by cloud (in \"oktas\": eighths) at 3pm. See Cload9am for a description of the values<br>\n",
    "* Temp9am - Temperature (degrees C) at 9am<br>\n",
    "* Temp3pm - Temperature (degrees C) at 3pm<br>\n",
    "* RainToday - Boolean: 1 if precipitation (mm) in the 24 hours to 9am exceeds 1mm, otherwise 0<br>\n",
    "\n",
    "[Link to Kaggle Dataset](https://www.kaggle.com/datasets/jsphyg/weather-dataset-rattle-package/discussion)"
   ]
  },
  {
   "cell_type": "markdown",
   "metadata": {
    "id": "jWBqrnVJP9PA"
   },
   "source": [
    "# Aim of project\n",
    "\n",
    "* What are the data types? (Only numeric and categorical)\n",
    "\n",
    "* Are there missing values?\n",
    "\n",
    "* What are the likely distributions of the numeric variables?\n",
    "\n",
    "* Which independent variables are useful to predict a target (dependent variable)? (Use at least three methods)\n",
    "\n",
    "* Which independent variables have missing data? How much?\n",
    "\n",
    "* Do the training and test sets have the same data?\n",
    "\n",
    "* In the predictor variables independent of all the other predictor variables?\n",
    "\n",
    "* Which predictor variables are the most important?\n",
    "\n",
    "* Do the ranges of the predictor variables make sense?\n",
    "\n",
    "* What are the distributions of the predictor variables?   \n",
    "\n",
    "* Remove outliers and keep outliers (does if have an effect of the final predictive model)?\n",
    "\n",
    "* Remove 1%, 5%, and 10% of your data randomly and impute the values back using at least 3 imputation methods. How well did the methods recover the missing values?  That is remove some data, check the % error on residuals for numeric data and check for bias and variance of the error."
   ]
  },
  {
   "cell_type": "code",
   "execution_count": 1,
   "metadata": {
    "id": "pv1sqZFGQVzr"
   },
   "outputs": [],
   "source": [
    "import pandas as pd\n",
    "import numpy as np\n",
    "import matplotlib.pyplot as plt\n",
    "import seaborn as sns\n",
    "\n",
    "from sklearn.metrics import accuracy_score\n",
    "from sklearn.ensemble import RandomForestClassifier\n",
    "from sklearn.feature_selection import RFE # Recursive Feature Selection\n",
    "from sklearn.metrics import confusion_matrix\n",
    "from sklearn.impute import KNNImputer,SimpleImputer\n",
    "from sklearn.preprocessing import LabelEncoder\n",
    "from sklearn.experimental import enable_iterative_imputer\n",
    "from sklearn.impute import IterativeImputer\n",
    "\n",
    "import random, math\n",
    "from sklearn.metrics import r2_score, mean_squared_error\n",
    "\n",
    "from scipy import stats\n",
    "import statsmodels.api as sm"
   ]
  },
  {
   "cell_type": "code",
   "execution_count": 3,
   "metadata": {
    "colab": {
     "base_uri": "https://localhost:8080/",
     "height": 344
    },
    "id": "V8F3s-vDn_1E",
    "outputId": "6b51b289-8d01-4ff9-f46f-5c010ea5b0d8"
   },
   "outputs": [
    {
     "name": "stdout",
     "output_type": "stream",
     "text": [
      "Requirement already satisfied: kaggle in c:\\users\\saksh\\appdata\\local\\programs\\python\\python312\\lib\\site-packages (1.6.3)\n",
      "Requirement already satisfied: six>=1.10 in c:\\users\\saksh\\appdata\\local\\programs\\python\\python312\\lib\\site-packages (from kaggle) (1.16.0)\n",
      "Requirement already satisfied: certifi in c:\\users\\saksh\\appdata\\local\\programs\\python\\python312\\lib\\site-packages (from kaggle) (2023.11.17)\n",
      "Requirement already satisfied: python-dateutil in c:\\users\\saksh\\appdata\\local\\programs\\python\\python312\\lib\\site-packages (from kaggle) (2.8.2)\n",
      "Requirement already satisfied: requests in c:\\users\\saksh\\appdata\\local\\programs\\python\\python312\\lib\\site-packages (from kaggle) (2.31.0)\n",
      "Requirement already satisfied: tqdm in c:\\users\\saksh\\appdata\\local\\programs\\python\\python312\\lib\\site-packages (from kaggle) (4.66.1)\n",
      "Requirement already satisfied: python-slugify in c:\\users\\saksh\\appdata\\local\\programs\\python\\python312\\lib\\site-packages (from kaggle) (8.0.1)\n",
      "Requirement already satisfied: urllib3 in c:\\users\\saksh\\appdata\\local\\programs\\python\\python312\\lib\\site-packages (from kaggle) (2.1.0)\n",
      "Requirement already satisfied: bleach in c:\\users\\saksh\\appdata\\local\\programs\\python\\python312\\lib\\site-packages (from kaggle) (6.1.0)\n",
      "Requirement already satisfied: webencodings in c:\\users\\saksh\\appdata\\local\\programs\\python\\python312\\lib\\site-packages (from bleach->kaggle) (0.5.1)\n",
      "Requirement already satisfied: text-unidecode>=1.3 in c:\\users\\saksh\\appdata\\local\\programs\\python\\python312\\lib\\site-packages (from python-slugify->kaggle) (1.3)\n",
      "Requirement already satisfied: charset-normalizer<4,>=2 in c:\\users\\saksh\\appdata\\local\\programs\\python\\python312\\lib\\site-packages (from requests->kaggle) (3.3.2)\n",
      "Requirement already satisfied: idna<4,>=2.5 in c:\\users\\saksh\\appdata\\local\\programs\\python\\python312\\lib\\site-packages (from requests->kaggle) (3.6)\n",
      "Requirement already satisfied: colorama in c:\\users\\saksh\\appdata\\local\\programs\\python\\python312\\lib\\site-packages (from tqdm->kaggle) (0.4.6)\n"
     ]
    },
    {
     "ename": "ModuleNotFoundError",
     "evalue": "No module named 'google'",
     "output_type": "error",
     "traceback": [
      "\u001b[1;31m---------------------------------------------------------------------------\u001b[0m",
      "\u001b[1;31mModuleNotFoundError\u001b[0m                       Traceback (most recent call last)",
      "Cell \u001b[1;32mIn[3], line 2\u001b[0m\n\u001b[0;32m      1\u001b[0m get_ipython()\u001b[38;5;241m.\u001b[39msystem(\u001b[38;5;124m'\u001b[39m\u001b[38;5;124mpip install kaggle\u001b[39m\u001b[38;5;124m'\u001b[39m)\n\u001b[1;32m----> 2\u001b[0m \u001b[38;5;28;01mfrom\u001b[39;00m \u001b[38;5;21;01mgoogle\u001b[39;00m\u001b[38;5;21;01m.\u001b[39;00m\u001b[38;5;21;01mcolab\u001b[39;00m \u001b[38;5;28;01mimport\u001b[39;00m files\n\u001b[0;32m      4\u001b[0m \u001b[38;5;66;03m# Upload your Kaggle API credentials JSON file that you downloaded earlier\u001b[39;00m\n\u001b[0;32m      5\u001b[0m files\u001b[38;5;241m.\u001b[39mupload()\n",
      "\u001b[1;31mModuleNotFoundError\u001b[0m: No module named 'google'"
     ]
    }
   ],
   "source": [
    "!pip install kaggle\n",
    "from google.colab import files\n",
    "\n",
    "# Upload your Kaggle API credentials JSON file that you downloaded earlier\n",
    "files.upload()\n"
   ]
  },
  {
   "cell_type": "code",
   "execution_count": 3,
   "metadata": {
    "id": "AmmWsKYtotpb"
   },
   "outputs": [
    {
     "name": "stderr",
     "output_type": "stream",
     "text": [
      "The syntax of the command is incorrect.\n",
      "'mv' is not recognized as an internal or external command,\n",
      "operable program or batch file.\n",
      "'chmod' is not recognized as an internal or external command,\n",
      "operable program or batch file.\n"
     ]
    }
   ],
   "source": [
    "!mkdir -p ~/.kaggle\n",
    "!mv kaggle.json ~/.kaggle/\n",
    "!chmod 600 ~/.kaggle/kaggle.json\n"
   ]
  },
  {
   "cell_type": "code",
   "execution_count": 4,
   "metadata": {
    "colab": {
     "base_uri": "https://localhost:8080/",
     "height": 0
    },
    "id": "U-wKKITlo2bl",
    "outputId": "54d568a1-4428-4da0-f25c-94022b1760b7"
   },
   "outputs": [
    {
     "name": "stderr",
     "output_type": "stream",
     "text": [
      "Traceback (most recent call last):\n",
      "  File \"<frozen runpy>\", line 198, in _run_module_as_main\n",
      "  File \"<frozen runpy>\", line 88, in _run_code\n",
      "  File \"C:\\Users\\saksh\\AppData\\Local\\Programs\\Python\\Python312\\Scripts\\kaggle.exe\\__main__.py\", line 4, in <module>\n",
      "  File \"C:\\Users\\saksh\\AppData\\Local\\Programs\\Python\\Python312\\Lib\\site-packages\\kaggle\\__init__.py\", line 23, in <module>\n",
      "    api.authenticate()\n",
      "  File \"C:\\Users\\saksh\\AppData\\Local\\Programs\\Python\\Python312\\Lib\\site-packages\\kaggle\\api\\kaggle_api_extended.py\", line 403, in authenticate\n",
      "    raise IOError('Could not find {}. Make sure it\\'s located in'\n",
      "OSError: Could not find kaggle.json. Make sure it's located in C:\\Users\\saksh\\.kaggle. Or use the environment method.\n"
     ]
    }
   ],
   "source": [
    "!kaggle datasets download -d jsphyg/weather-dataset-rattle-package\n"
   ]
  },
  {
   "cell_type": "code",
   "execution_count": null,
   "metadata": {
    "colab": {
     "base_uri": "https://localhost:8080/",
     "height": 0
    },
    "id": "WL-pk3hYpSpZ",
    "outputId": "50529d8e-5dd5-48c9-faf6-729572653af0"
   },
   "outputs": [],
   "source": [
    "!unzip -o weather-dataset-rattle-package.zip -d /content"
   ]
  },
  {
   "cell_type": "markdown",
   "metadata": {
    "id": "nVSR1RYXmv-7"
   },
   "source": [
    "Load the dataset"
   ]
  },
  {
   "cell_type": "code",
   "execution_count": null,
   "metadata": {
    "colab": {
     "base_uri": "https://localhost:8080/",
     "height": 342
    },
    "id": "1uzuwpSjSHzp",
    "outputId": "104d0a33-3ee4-45b1-8aee-0e59d9948312"
   },
   "outputs": [],
   "source": [
    "df = pd.read_csv('/content/weatherAUS.csv')\n",
    "df.head()"
   ]
  },
  {
   "cell_type": "code",
   "execution_count": null,
   "metadata": {
    "colab": {
     "base_uri": "https://localhost:8080/",
     "height": 0
    },
    "id": "N1Eb8FnQ-2Ye",
    "outputId": "a93e74a2-c9e2-4f44-f7c7-61b40ae7b404"
   },
   "outputs": [],
   "source": [
    "#print total number of columns and rows present in the dataset\n",
    "print('The Dataset has', df.shape[0], 'rows and', df.shape[1],'columns')"
   ]
  },
  {
   "cell_type": "markdown",
   "metadata": {
    "id": "Qgx2BI7yLJRc"
   },
   "source": [
    "#What are the data types?"
   ]
  },
  {
   "cell_type": "code",
   "execution_count": null,
   "metadata": {
    "colab": {
     "base_uri": "https://localhost:8080/",
     "height": 0
    },
    "id": "Lw_0gCrvSZBf",
    "outputId": "5b0a3477-ae54-4e94-efb3-3f3c10cdb0b4"
   },
   "outputs": [],
   "source": [
    "#print datatype of each column to find categorical and numerical variable\n",
    "print('Column Name      Datatype')\n",
    "print(\"\")\n",
    "print(df.dtypes)"
   ]
  },
  {
   "cell_type": "markdown",
   "metadata": {
    "id": "U84BP5RZIsze"
   },
   "source": [
    "This weather dataset comprises 7 categorical columns with data stored as 'Object' datatype and 16 numerical columns represented as 'float64' datatype."
   ]
  },
  {
   "cell_type": "code",
   "execution_count": null,
   "metadata": {
    "colab": {
     "base_uri": "https://localhost:8080/",
     "height": 0
    },
    "id": "3o0fTFXv--AA",
    "outputId": "4bc6dc3b-7b07-475e-90c0-fdf5c5b9d91e"
   },
   "outputs": [],
   "source": [
    "#Look for concise summary of dataset using info()\n",
    "df.info()"
   ]
  },
  {
   "cell_type": "markdown",
   "metadata": {
    "id": "f2ZgS-iq-_pm"
   },
   "source": [
    "## EDA on categorical variables"
   ]
  },
  {
   "cell_type": "code",
   "execution_count": null,
   "metadata": {
    "colab": {
     "base_uri": "https://localhost:8080/",
     "height": 0
    },
    "id": "lwoqts2vnss4",
    "outputId": "3c030bbc-0850-4d78-e540-58a667906c07"
   },
   "outputs": [],
   "source": [
    "# we will look at categorical columns which has datatype as 'Object'\n",
    "cat_cols = df.select_dtypes(include=['object']).columns\n",
    "cat_cols"
   ]
  },
  {
   "cell_type": "code",
   "execution_count": null,
   "metadata": {
    "colab": {
     "base_uri": "https://localhost:8080/",
     "height": 175
    },
    "id": "fXqewKUZpzya",
    "outputId": "f724c338-4b31-4166-d477-2a9f160856a1"
   },
   "outputs": [],
   "source": [
    "# This will give statistical summary statistics of the categorical columns\n",
    "df[cat_cols].describe()"
   ]
  },
  {
   "cell_type": "code",
   "execution_count": null,
   "metadata": {
    "colab": {
     "base_uri": "https://localhost:8080/",
     "height": 0
    },
    "id": "WcHgE1MHrIEj",
    "outputId": "c5e49ce7-bba8-4012-b8bd-652106f991e1"
   },
   "outputs": [],
   "source": [
    "#Look for concise summary of dataset using info()\n",
    "df[cat_cols].info()"
   ]
  },
  {
   "cell_type": "markdown",
   "metadata": {
    "id": "_y67lxjmrgzl"
   },
   "source": [
    "Now, we will impute categorical variable with mode"
   ]
  },
  {
   "cell_type": "code",
   "execution_count": null,
   "metadata": {
    "id": "0laTGTbfrkvo"
   },
   "outputs": [],
   "source": [
    "# Impute categorical var with Mode\n",
    "df['WindGustDir'] = df['WindGustDir'].fillna(df['WindGustDir'].mode()[0])\n",
    "df['WindDir9am'] = df['WindDir9am'].fillna(df['WindDir9am'].mode()[0])\n",
    "df['WindDir3pm'] = df['WindDir3pm'].fillna(df['WindDir3pm'].mode()[0])\n",
    "df['RainToday'] = df['RainToday'].fillna(df['RainToday'].mode()[0])"
   ]
  },
  {
   "cell_type": "code",
   "execution_count": null,
   "metadata": {
    "colab": {
     "base_uri": "https://localhost:8080/",
     "height": 0
    },
    "id": "iplIthmTrnEZ",
    "outputId": "b5f4d85d-3454-456b-9cc3-5718b4da59bd"
   },
   "outputs": [],
   "source": [
    "# Check Categorical columns again for the null values\n",
    "df[cat_cols].info()"
   ]
  },
  {
   "cell_type": "code",
   "execution_count": null,
   "metadata": {
    "colab": {
     "base_uri": "https://localhost:8080/",
     "height": 406
    },
    "id": "QvzXkLnZpH3f",
    "outputId": "9d4bc8f9-19da-47ab-f462-4e4f2ccb0bef"
   },
   "outputs": [],
   "source": [
    "# plot distribution of 'RainToday' variable\n",
    "d = df['RainToday'].value_counts()\n",
    "labels = list(d.index)\n",
    "d\n",
    "plt.pie(d, labels=labels, autopct='%1.3f%%')\n",
    "plt.show()"
   ]
  },
  {
   "cell_type": "code",
   "execution_count": null,
   "metadata": {
    "colab": {
     "base_uri": "https://localhost:8080/",
     "height": 406
    },
    "id": "Q2QjmiEBpBs7",
    "outputId": "f71ec6f9-67f8-4a66-bb53-57ea2da3a6b3"
   },
   "outputs": [],
   "source": [
    "# plot distribution of 'RainTomorrow' target variable\n",
    "df.dropna(subset=['RainTomorrow'], inplace=True)\n",
    "d = df['RainTomorrow'].value_counts()\n",
    "labels = list(d.index)\n",
    "d\n",
    "plt.pie(d, labels=labels, autopct='%1.3f%%')\n",
    "plt.show()"
   ]
  },
  {
   "cell_type": "markdown",
   "metadata": {
    "id": "ZozPRxH0pQKw"
   },
   "source": [
    "We will convert Date object to year, month and date which then can be converted to categorical columns"
   ]
  },
  {
   "cell_type": "code",
   "execution_count": null,
   "metadata": {
    "id": "CdB23HYdpT5b"
   },
   "outputs": [],
   "source": [
    "# Convert Date object to datetime\n",
    "df['Date'] = pd.to_datetime(df['Date'])"
   ]
  },
  {
   "cell_type": "code",
   "execution_count": null,
   "metadata": {
    "id": "N1iWXWk3pX38"
   },
   "outputs": [],
   "source": [
    "# Split Date to 'Year', 'Month' & 'Day'\n",
    "df['Year'] = df['Date'].dt.year\n",
    "df['Month'] = df['Date'].dt.month\n",
    "df['Day'] = df['Date'].dt.day\n"
   ]
  },
  {
   "cell_type": "code",
   "execution_count": null,
   "metadata": {
    "colab": {
     "base_uri": "https://localhost:8080/",
     "height": 256
    },
    "id": "WPly_5MHpg9H",
    "outputId": "75dda6b3-eeca-4a9c-8a4d-e14fe16855c2"
   },
   "outputs": [],
   "source": [
    "# Drop 'Date' from df\n",
    "data = df.drop('Date', axis=1, inplace=True)\n",
    "\n",
    "data = df.dropna(axis=0, how='any', subset=[\"RainTomorrow\"])\n",
    "\n",
    "df.head()"
   ]
  },
  {
   "cell_type": "code",
   "execution_count": null,
   "metadata": {
    "colab": {
     "base_uri": "https://localhost:8080/",
     "height": 0
    },
    "id": "lIaT2vfipnnF",
    "outputId": "86c84c75-dbbd-49af-a55f-558f07905d20"
   },
   "outputs": [],
   "source": [
    "# Check unique location\n",
    "df['Location'].unique()"
   ]
  },
  {
   "cell_type": "code",
   "execution_count": null,
   "metadata": {
    "colab": {
     "base_uri": "https://localhost:8080/",
     "height": 0
    },
    "id": "j7GCpeomDzsn",
    "outputId": "0423e6ba-628b-4c23-9e18-17fc6feb94d4"
   },
   "outputs": [],
   "source": [
    "# cat_features is a list of column names representing categorical features in a dataset\n",
    "cat_features = ['Year', 'Month', 'Day', 'Location', 'WindGustDir', 'WindDir9am', 'WindDir3pm',\n",
    "       'RainToday']\n",
    "\n",
    "print(data.shape)"
   ]
  },
  {
   "cell_type": "code",
   "execution_count": null,
   "metadata": {
    "colab": {
     "base_uri": "https://localhost:8080/",
     "height": 206
    },
    "id": "J3QumQWqtce_",
    "outputId": "9d1c391a-4759-4763-d392-c7c29b9cc771"
   },
   "outputs": [],
   "source": [
    "# check top 5\n",
    "df[cat_features].head()"
   ]
  },
  {
   "cell_type": "code",
   "execution_count": null,
   "metadata": {
    "id": "gozx9APJv_VZ"
   },
   "outputs": [],
   "source": [
    "lencoders = {}\n",
    "features = ['Year', 'Month', 'Day', 'Location', 'WindGustDir', 'WindDir9am', 'WindDir3pm',\n",
    "       'RainToday', 'RainTomorrow']\n",
    "for col in data[features].columns:\n",
    "    lencoders[col] = LabelEncoder()\n",
    "    data[col] = lencoders[col].fit_transform(data[col])"
   ]
  },
  {
   "cell_type": "code",
   "execution_count": null,
   "metadata": {
    "colab": {
     "base_uri": "https://localhost:8080/",
     "height": 256
    },
    "id": "VHmgUMIwyDzZ",
    "outputId": "b3e1dbfd-c08d-4d64-a27b-b4dad34610db"
   },
   "outputs": [],
   "source": [
    "encoded_data = data.copy()\n",
    "encoded_data.head()"
   ]
  },
  {
   "cell_type": "markdown",
   "metadata": {
    "id": "_2GXldeM_bYk"
   },
   "source": [
    "## EDA on continuos variables"
   ]
  },
  {
   "cell_type": "code",
   "execution_count": null,
   "metadata": {
    "colab": {
     "base_uri": "https://localhost:8080/",
     "height": 226
    },
    "id": "Vf4Mj5U8pwem",
    "outputId": "12ddd238-09da-409c-9376-82c573374cc7"
   },
   "outputs": [],
   "source": [
    "# we will look at categorical columns which does not have datatype as 'Object'\n",
    "num_cols = df.select_dtypes(exclude=['object']).columns\n",
    "df[num_cols].head()"
   ]
  },
  {
   "cell_type": "code",
   "execution_count": null,
   "metadata": {
    "colab": {
     "base_uri": "https://localhost:8080/",
     "height": 320
    },
    "id": "mStDIWpmt979",
    "outputId": "0f692dfd-cc01-43c0-cf1c-788fc324049b"
   },
   "outputs": [],
   "source": [
    "# This will give statistical summary statistics of the numerical columns\n",
    "df[num_cols].describe()"
   ]
  },
  {
   "cell_type": "code",
   "execution_count": null,
   "metadata": {
    "colab": {
     "base_uri": "https://localhost:8080/",
     "height": 0
    },
    "id": "vwFthzr7uq9q",
    "outputId": "7da22952-1b41-4702-e0c2-afe75b216b76"
   },
   "outputs": [],
   "source": [
    "#Look for concise summary of dataset using info()\n",
    "df[num_cols].info()"
   ]
  },
  {
   "cell_type": "code",
   "execution_count": null,
   "metadata": {
    "colab": {
     "base_uri": "https://localhost:8080/",
     "height": 2169,
     "referenced_widgets": [
      "438706abc20147cbb3f7f10fca443f84",
      "d206808337d340588286d38d5686fd16",
      "3d55c74a608545fbac7cca47cfd0a1e7",
      "22e1d42c3b924c48ab387835c96d1aa1",
      "84f08687cdfa47eba3eeade65c2bdc98",
      "8d66c92910224f1782d0553e4382967d",
      "46caf6c32f4f4c3f92ce83e362f38a7c",
      "dcabdea4495c4ae280b8f139811ea9f8",
      "fc2aa17d53fd49d7acba5841293eddee",
      "f15c7f01ff654880881dcfc7201ba35f",
      "85ac26288d1f49f99e86017e09c33dbd",
      "ad380ec3e1294d619661e9a186529061",
      "21545dd9557c417c9298729c9d5ddec1",
      "fec3f3c2708c4f82a08cd4c9f6b6b1b0",
      "c371cf2e8bbb4efa947363607408b3cd",
      "2811b9b27001479ab6c5bd883d5a6d9a",
      "72a7a05cf83540d4983fa71a85bc90a4",
      "40843639851c47a3917b46825ff2b2af",
      "001342ca9012499383aa38b58a24fae1",
      "9ccdaf40903345ac8dc6c693e300f449",
      "5c2aa81cd28946198a5f95cdf1805a1a",
      "0913cd8d4e324fffad3730f7bf8ea0ba",
      "cb50e23ef4af49b1bda24bcc62cf5e7e",
      "29a6f280a322401ebaa4594c08e26793",
      "7a121278e82844348f995996644162c2",
      "3baeb846d002438d97c1266443974b1f",
      "ed91bb71424c451e83a197b653b077ec",
      "5646fdbfdad04a5393233d9c3e4b4329",
      "1fc9e879cde54bf79e6bade79c000642",
      "73df98e0ade740b38cd6b65914b4e22b",
      "570f289d67b549d2a5d4d28eb3bb0b9e",
      "7b9f6d9c10d74099b54ebdb6e95a7fe8",
      "738993d9e8744ee890dedfc950d98fe9"
     ]
    },
    "id": "mmEdCS_qvCSG",
    "outputId": "708ec605-9569-42ce-eb07-3f386761e8a7"
   },
   "outputs": [],
   "source": [
    "# Pandas profiling before data preprocessing\n",
    "!pip install pandas-profiling\n",
    "from pandas_profiling import ProfileReport\n",
    "\n",
    "profile = ProfileReport(df[num_cols], title='Pandas profiling before data preprocessing', minimal=True)\n",
    "profile.to_notebook_iframe()"
   ]
  },
  {
   "cell_type": "code",
   "execution_count": null,
   "metadata": {
    "colab": {
     "base_uri": "https://localhost:8080/",
     "height": 444
    },
    "id": "pJS8xawFvWna",
    "outputId": "6d795517-66f9-4452-dde8-5772894d9566"
   },
   "outputs": [],
   "source": [
    "# num_features is a list of column names representing numerical features in a dataset\n",
    "num_features = ['MinTemp', 'MaxTemp', 'Rainfall', 'Evaporation', 'Sunshine',\n",
    "       'WindGustSpeed', 'WindSpeed9am', 'WindSpeed3pm', 'Humidity9am',\n",
    "       'Humidity3pm', 'Pressure9am', 'Pressure3pm', 'Cloud9am', 'Cloud3pm',\n",
    "       'Temp9am', 'Temp3pm']\n",
    "\n",
    "df[num_features]"
   ]
  },
  {
   "cell_type": "markdown",
   "metadata": {
    "id": "xwvTmc6KI49l"
   },
   "source": [
    "# Are there missing values?"
   ]
  },
  {
   "cell_type": "code",
   "execution_count": null,
   "metadata": {
    "colab": {
     "base_uri": "https://localhost:8080/",
     "height": 0
    },
    "id": "j95BQ0lRQa_p",
    "outputId": "9c0dd9b3-37da-427c-a3d1-0f9ca32d640e"
   },
   "outputs": [],
   "source": [
    "#Lets find missing value columns\n",
    "missing_values = encoded_data[num_features].isnull().sum()\n",
    "missing_values"
   ]
  },
  {
   "cell_type": "markdown",
   "metadata": {
    "id": "-PKdvX6XzKix"
   },
   "source": [
    "Lets find out missing values in percentage"
   ]
  },
  {
   "cell_type": "code",
   "execution_count": null,
   "metadata": {
    "colab": {
     "base_uri": "https://localhost:8080/",
     "height": 0
    },
    "id": "T_hYBGFozOSR",
    "outputId": "855445ec-69a7-4708-e9c7-e5f507b56cb5"
   },
   "outputs": [],
   "source": [
    "# Missing values in percent\n",
    "missing_values_pct = encoded_data[num_features].isnull().sum()/encoded_data.shape[0]*100\n",
    "missing_values_pct.sort_values(ascending=False)"
   ]
  },
  {
   "cell_type": "markdown",
   "metadata": {
    "id": "XRkCP1Ig0DnZ"
   },
   "source": [
    "Now we will impute values to missing data"
   ]
  },
  {
   "cell_type": "code",
   "execution_count": null,
   "metadata": {
    "colab": {
     "base_uri": "https://localhost:8080/",
     "height": 0
    },
    "id": "SNAzyd3Q0GqL",
    "outputId": "132dd6ee-f112-409d-e24b-19f7d40aa315"
   },
   "outputs": [],
   "source": [
    "# Impute data with MICE imputer\n",
    "imputed_data = encoded_data.copy(deep=True)\n",
    "mice_imputer = IterativeImputer()\n",
    "imputed_data.iloc[:, :] = mice_imputer.fit_transform(encoded_data)"
   ]
  },
  {
   "cell_type": "code",
   "execution_count": null,
   "metadata": {
    "colab": {
     "base_uri": "https://localhost:8080/",
     "height": 0
    },
    "id": "4ADv3M730ueY",
    "outputId": "7ded3e5a-ef4d-4208-f5e5-7180b41a5efa"
   },
   "outputs": [],
   "source": [
    "# Check for missing values\n",
    "imputed_data.isnull().sum()"
   ]
  },
  {
   "cell_type": "markdown",
   "metadata": {
    "id": "Y0FFOGqILDUm"
   },
   "source": [
    "# Which independent variables have missing data? How much?"
   ]
  },
  {
   "cell_type": "code",
   "execution_count": null,
   "metadata": {
    "colab": {
     "base_uri": "https://localhost:8080/",
     "height": 917,
     "referenced_widgets": [
      "2966f0d19cdc4051b269ae7c6f43f9ed",
      "0c7adc64e6744af386f0b4ed0be2b338",
      "852008c74e654eb1a6158e074593fc43",
      "1a76a1456f0a442c8211fa94fcf2a047",
      "f7bbcdc7fd304f03ac7ecd2082883b67",
      "e6951a1824bc4759b88b680f06766ff6",
      "b1b8bb3c2a0c4a5187562a0e5d57f0d6",
      "76a9f9a198a8401ba19489bf628c4534",
      "f8657fea11004429b1e19f5c57313c34",
      "75d940c7fd1b4812aa6a49e4c94e99ae",
      "84960c448a25408486d2033c582f0f71",
      "7a8ba986a89b4e74b56005fda861a077",
      "0f086c06ae0049b18167aa4574384d44",
      "bdb3b9a7e776466cb906f21988392bc3",
      "5e81d98e34a842b8a82dc2894981d225",
      "431cf64ba1464fd581c34e29388d1613",
      "5a1f3bdd07fd43e6b62d87e84d959aec",
      "5f796b06ea274b64b2e05f202c2d8f86",
      "d9ce7c325b544794874de52abaf618e8",
      "da09c06f366d43849a494f69cd9502ea",
      "cf79de8584a041b2ba11f1f1764ec8f6",
      "4dafa438eda84efd9dc06b1f3ea59c69",
      "0063484727c14041aa95c4a2349da18c",
      "e3a6812030ad4aa0b184d58b2a3acd4e",
      "dc7ba10092344cc1bee7b32225d42ab8",
      "b86ada47385c4e19a26e43010a0d9a5c",
      "87ff46665f1747a5994a61524eba885f",
      "358a38d13595470f9a1b7bd3f42266f1",
      "a1fe8dd8a8694e14a6a0f0062cd8333a",
      "2a393d1c7b134191925b56b59b927200",
      "c2a9bc90dce94647a82a3260c6b79999",
      "36ec899a3ed94ee6afb48bd6d18b803e",
      "349341cd86684697b5d9c2cda48c132e"
     ]
    },
    "id": "ODZ1MkjNXu42",
    "outputId": "7573d09a-8df5-461b-860c-1e2d6f06a032"
   },
   "outputs": [],
   "source": [
    "#!pip install pandas-profiling\n",
    "from pandas_profiling import ProfileReport\n",
    "\n",
    "profile = ProfileReport(df, title='Pandas profiling before data preprocessing', minimal=True)\n",
    "profile.to_notebook_iframe()"
   ]
  },
  {
   "cell_type": "markdown",
   "metadata": {
    "id": "H5HqkIhpx_XQ"
   },
   "source": [
    "#What are the likely distributions of the numeric variables?"
   ]
  },
  {
   "cell_type": "code",
   "execution_count": null,
   "metadata": {
    "colab": {
     "base_uri": "https://localhost:8080/",
     "height": 829
    },
    "id": "4qUO2hlnyJgI",
    "outputId": "812e7e02-61b4-4915-d7fa-5ac4146bba41"
   },
   "outputs": [],
   "source": [
    "# Plot Histogram\n",
    "import seaborn as sns\n",
    "import matplotlib.pyplot as plt\n",
    "fig = plt.figure(figsize = (20,15))\n",
    "ax = fig.gca()\n",
    "imputed_data.hist(ax=ax)\n",
    "plt.show()"
   ]
  },
  {
   "cell_type": "markdown",
   "metadata": {
    "id": "eM9CWggssWuA"
   },
   "source": [
    "## Likely distribution of numerical variables"
   ]
  },
  {
   "cell_type": "code",
   "execution_count": null,
   "metadata": {
    "colab": {
     "base_uri": "https://localhost:8080/",
     "height": 4048
    },
    "id": "wEOt2ObRgNIX",
    "outputId": "eb127355-0e86-4ed7-d09f-d61f5353ca88"
   },
   "outputs": [],
   "source": [
    "import matplotlib.pyplot as plt\n",
    "from scipy import stats\n",
    "import statsmodels.api as sm\n",
    "\n",
    "# Loop through each numeric column in the DataFrame\n",
    "for column in df.select_dtypes(include=['float64']):\n",
    "#    data = df[column].dropna()  # Remove missing values if any\n",
    "    sm.qqplot(imputed_data[column], line='q')\n",
    "    plt.title(f'QQ Plot for {column}')\n",
    "    plt.show()\n"
   ]
  },
  {
   "cell_type": "markdown",
   "metadata": {
    "id": "avB8OS4LxX3b"
   },
   "source": [
    "\n",
    "*   **Bimodal Distributions:** Sunshine, Cloud9am, Cloud3pm\n",
    "*   **Skewed Normal Distributions:** MinTemp, MaxTemp, WindGustSpeed, Humidity9am, Humidity3pm, Pressure9am, Pressure3pm, Temp9am, Temp3pm\n",
    "*   **Exponential Distributions:** Rainfall, Evaporation, WindSpeed9am, WindSpeed3pm\n"
   ]
  },
  {
   "cell_type": "markdown",
   "metadata": {
    "id": "Gpe-yp79sdxW"
   },
   "source": [
    "# What are the distributions of the predictor variables?   "
   ]
  },
  {
   "cell_type": "markdown",
   "metadata": {
    "id": "SO_pC4kplQrF"
   },
   "source": [
    "## Likely frequency distribution of categorical variables"
   ]
  },
  {
   "cell_type": "code",
   "execution_count": null,
   "metadata": {
    "colab": {
     "base_uri": "https://localhost:8080/",
     "height": 0
    },
    "id": "JSc-aLmxsjq8",
    "outputId": "435fe32a-71df-4515-98a3-6f29231af10e"
   },
   "outputs": [],
   "source": [
    "for column in imputed_data[cat_features]:\n",
    "  # Calculate the frequency of each category\n",
    "  freq = imputed_data[column].value_counts()\n",
    "  print(column)\n",
    "  # Print the frequency of each category\n",
    "  print(freq)\n",
    "  print(\"\")"
   ]
  },
  {
   "cell_type": "code",
   "execution_count": null,
   "metadata": {
    "colab": {
     "base_uri": "https://localhost:8080/",
     "height": 0
    },
    "id": "AQNf5MYM4CX3",
    "outputId": "2113dbad-da94-4a82-fd2a-dee09a16a530"
   },
   "outputs": [],
   "source": [
    "normalized_data = imputed_data.copy()\n",
    "for column in normalized_data[cat_features]:\n",
    "    freq = normalized_data[column].value_counts(normalize=True)\n",
    "    print(f\"{column}\\n{freq}\\n\")"
   ]
  },
  {
   "cell_type": "code",
   "execution_count": null,
   "metadata": {
    "colab": {
     "base_uri": "https://localhost:8080/",
     "height": 0
    },
    "id": "KS-Dz35x7p9B",
    "outputId": "51b1abd6-16dd-4783-fe3f-79bd3eb65b6d"
   },
   "outputs": [],
   "source": [
    "normalized_data.info()"
   ]
  },
  {
   "cell_type": "code",
   "execution_count": null,
   "metadata": {
    "colab": {
     "base_uri": "https://localhost:8080/",
     "height": 2001
    },
    "id": "sUa-CLc875YL",
    "outputId": "19c74660-186d-4a11-f78a-273cc719c11d"
   },
   "outputs": [],
   "source": [
    "for i, column in enumerate(normalized_data[cat_features]):\n",
    "    print(column)\n",
    "    plt.figure(i)\n",
    "    normalized_data[column].hist()\n",
    "    plt.show()"
   ]
  },
  {
   "cell_type": "code",
   "execution_count": null,
   "metadata": {
    "colab": {
     "base_uri": "https://localhost:8080/",
     "height": 467
    },
    "id": "CVE95V8Y8P3l",
    "outputId": "5a093106-8337-4e0e-ee97-cfe8136fccb1"
   },
   "outputs": [],
   "source": [
    "# check Countplot for \"RainTomorrow\" target variable\n",
    "sns.countplot(x='RainTomorrow', data = normalized_data, palette = \"Set1\")"
   ]
  },
  {
   "cell_type": "code",
   "execution_count": null,
   "metadata": {
    "colab": {
     "base_uri": "https://localhost:8080/",
     "height": 467
    },
    "id": "WFrYzNJ_JKlm",
    "outputId": "4bdc94c0-8de4-4470-9e11-1415fe8ec4ba"
   },
   "outputs": [],
   "source": [
    "from sklearn.utils import resample\n",
    "\n",
    "# Separate the majority and minority classes\n",
    "majority_class = normalized_data[normalized_data.RainTomorrow == 0]\n",
    "minority_class = normalized_data[normalized_data.RainTomorrow == 1]\n",
    "\n",
    "# Upsample the minority class to match the majority class\n",
    "minority_upsampled = resample(minority_class, replace=True, n_samples=len(majority_class), random_state=42)\n",
    "\n",
    "# Combine the majority class and upsampled minority class\n",
    "balanced_df = pd.concat([majority_class, minority_upsampled])\n",
    "\n",
    "# Now, balanced_df contains a balanced dataset\n",
    "sns.countplot(x='RainTomorrow', data = balanced_df, palette = \"Set1\")"
   ]
  },
  {
   "cell_type": "markdown",
   "metadata": {
    "id": "foYy5U3QLLbS"
   },
   "source": [
    "# Which independent variables are useful to predict a target (dependent variable)? (Use at least three methods)"
   ]
  },
  {
   "cell_type": "code",
   "execution_count": null,
   "metadata": {
    "colab": {
     "base_uri": "https://localhost:8080/",
     "height": 256
    },
    "id": "4wS9dtsuYhfN",
    "outputId": "90ae35f5-7c0b-4cfa-cfc7-ce06d3a8074c"
   },
   "outputs": [],
   "source": [
    "# Standardize our Data - Feature Scaling 0-1 scale\n",
    "\n",
    "from sklearn.preprocessing import MinMaxScaler\n",
    "\n",
    "scaler = MinMaxScaler(feature_range=(0,1))\n",
    "\n",
    "#assign scaler to column:\n",
    "df_scaled = pd.DataFrame(scaler.fit_transform(normalized_data), columns=normalized_data.columns)\n",
    "\n",
    "df_scaled.head()"
   ]
  },
  {
   "cell_type": "markdown",
   "metadata": {
    "id": "QJrhUAluZDNa"
   },
   "source": [
    "##1) Using SelectKBest feature selection technique"
   ]
  },
  {
   "cell_type": "code",
   "execution_count": null,
   "metadata": {
    "colab": {
     "base_uri": "https://localhost:8080/",
     "height": 0
    },
    "id": "udKgUOgdX075",
    "outputId": "eb2350c5-bc87-4fd5-dc22-a7dfadad5eef"
   },
   "outputs": [],
   "source": [
    "# Selection of the most important features using SelectKBest\n",
    "from sklearn.feature_selection import SelectKBest, chi2\n",
    "\n",
    "X = df_scaled.loc[:,df_scaled.columns!='RainTomorrow']\n",
    "y = df_scaled[['RainTomorrow']]\n",
    "\n",
    "selector = SelectKBest(chi2, k=5)\n",
    "selector.fit(X, y)\n",
    "\n",
    "X_new = selector.transform(X)\n",
    "print(\"The 5 most important predictor variables are:\\n\", X.columns[selector.get_support(indices=True)])"
   ]
  },
  {
   "cell_type": "markdown",
   "metadata": {
    "id": "fWdFqUMgLRaU"
   },
   "source": [
    "## 2) Using heatmap"
   ]
  },
  {
   "cell_type": "code",
   "execution_count": null,
   "metadata": {
    "colab": {
     "base_uri": "https://localhost:8080/",
     "height": 633
    },
    "id": "KOnwH_Jiyh2Z",
    "outputId": "fd47bbb9-f978-4f5d-8e41-5517a26f22a6"
   },
   "outputs": [],
   "source": [
    "X = df_scaled.drop('RainTomorrow', axis=1)  # Replace 'TargetVariable' with the actual name of your target variable\n",
    "y = df_scaled['RainTomorrow']\n",
    "\n",
    "# Calculate the correlation matrix\n",
    "correlation_matrix = X.corr()\n",
    "\n",
    "# Create a heatmap\n",
    "plt.figure(figsize=(20, 10))\n",
    "sns.heatmap(correlation_matrix, annot=True, cmap='coolwarm')\n",
    "plt.title(\"Correlation Heatmap with Target Variable\")\n",
    "plt.show()\n"
   ]
  },
  {
   "cell_type": "markdown",
   "metadata": {
    "id": "H1prnPZCV7Ko"
   },
   "source": [
    "1. **MinTemp and MaxTemp**: These variables have a strong positive correlation with a coefficient of 0.74.\n",
    "\n",
    "2. **MinTemp and Temp3pm**: There is a notable positive correlation of 0.71 between MinTemp and Temp3pm.\n",
    "\n",
    "3. **MinTemp and Temp9am**: The correlation between MinTemp and Temp9am is exceptionally strong, with a coefficient of 0.90.\n",
    "\n",
    "4. **MaxTemp and Temp9am**: MaxTemp and Temp9am also display a robust positive correlation, having a coefficient of 0.89.\n",
    "\n",
    "5. **MaxTemp and Temp3pm**: MaxTemp and Temp3pm exhibit a remarkably strong positive correlation, with a coefficient of 0.98.\n",
    "\n",
    "6. **WindGustSpeed and WindSpeed3pm**: These variables are highly positively correlated, with a coefficient of 0.69.\n",
    "\n",
    "7. **Pressure9am and Pressure3pm**: Pressure9am and Pressure3pm show a very strong positive correlation, with a coefficient of 0.96.\n",
    "\n",
    "8. **Temp9am and Temp3pm**: The correlation between Temp9am and Temp3pm is quite strong, with a coefficient of 0.86.\n",
    "\n",
    "In summary, these pairs of variables demonstrate substantial positive relationships, as indicated by their correlation coefficients."
   ]
  },
  {
   "cell_type": "code",
   "execution_count": null,
   "metadata": {
    "colab": {
     "base_uri": "https://localhost:8080/",
     "height": 2062
    },
    "id": "h8rWmekOLXUi",
    "outputId": "a8d56100-0c56-43dc-e04b-d6f591c6ca68"
   },
   "outputs": [],
   "source": [
    "for column in cat_features:\n",
    "    plt.figure(figsize=(8, 6))\n",
    "    sns.countplot(x=column, hue='RainTomorrow', data=normalized_data)\n",
    "    plt.title(f'{column} vs RainTomorrow')\n",
    "    plt.xlabel(column)\n",
    "    plt.ylabel('Count')\n",
    "    plt.show()\n"
   ]
  },
  {
   "cell_type": "markdown",
   "metadata": {
    "id": "VvxYUPdsZjWB"
   },
   "source": [
    "## 3) Using FeatureCorrelation visualizer from Yellowbrick"
   ]
  },
  {
   "cell_type": "code",
   "execution_count": null,
   "metadata": {
    "colab": {
     "base_uri": "https://localhost:8080/",
     "height": 256
    },
    "id": "TYeDor0_VCtP",
    "outputId": "309d098d-4559-40b9-d087-1bf38855d12a"
   },
   "outputs": [],
   "source": [
    "X = normalized_data.drop(['RainTomorrow'],axis=1)\n",
    "y = normalized_data['RainTomorrow']\n",
    "\n",
    "X.head()\n",
    "\n"
   ]
  },
  {
   "cell_type": "code",
   "execution_count": null,
   "metadata": {
    "colab": {
     "base_uri": "https://localhost:8080/",
     "height": 542
    },
    "id": "f_agDDqOVTQ3",
    "outputId": "a7fc902e-7ea8-4a72-9283-8c1f51ad6c87"
   },
   "outputs": [],
   "source": [
    "from yellowbrick.target import FeatureCorrelation\n",
    "feature_names = list(X.columns)\n",
    "\n",
    "visualizer = FeatureCorrelation(labels = feature_names)\n",
    "visualizer.fit(X, y)\n",
    "visualizer.poof()"
   ]
  },
  {
   "cell_type": "markdown",
   "metadata": {
    "id": "QIxJ42Hw7X50"
   },
   "source": [
    "Observation:\n",
    "\n",
    "\n",
    "*   **RainToday**, **Cloud3pm**, **Cloud9am**, **Humidity3pm**, **Humidity9am**, **WindGustSpeed** and **Rainfall** are positively associated with the target.\n",
    "*   Whereas, Sunshine, Pressure3pm and Pressure9am are negatively associated with the target.Hence, those are not useful feature for predicting target.\n",
    "\n",
    "\n",
    "\n",
    "\n",
    "\n"
   ]
  },
  {
   "cell_type": "markdown",
   "metadata": {
    "id": "DhUEFQ8qifz7"
   },
   "source": [
    "## Which predictor variables are the most important?"
   ]
  },
  {
   "cell_type": "markdown",
   "metadata": {
    "id": "taVs-m108bJv"
   },
   "source": [
    "**RainToday**, **Cloud3pm**, **Cloud9am**, **Humidity3pm**, **Humidity9am**, **WindGustSpeed** and **Rainfall** are most important variable for predicting taget."
   ]
  },
  {
   "cell_type": "markdown",
   "metadata": {
    "id": "Tjsj0qZXinTB"
   },
   "source": [
    "## Do the ranges of the predictor variables make sense?"
   ]
  },
  {
   "cell_type": "code",
   "execution_count": null,
   "metadata": {
    "colab": {
     "base_uri": "https://localhost:8080/",
     "height": 545
    },
    "id": "aJTNFVDhaSsO",
    "outputId": "9f2be633-6957-4206-a907-070ac880ce90"
   },
   "outputs": [],
   "source": [
    "plt.figure(figsize=(50,25))\n",
    "sns.boxplot(data=df_scaled[num_features])"
   ]
  },
  {
   "cell_type": "markdown",
   "metadata": {
    "id": "0vQlob2WjulB"
   },
   "source": [
    "Rainfall, Evaporation, WindGustSpeed, WindSpeed9am, Windspeed3pm, Humidity9am, Humidity3pm, Pressure9am, Pressure3pm have substantial outliers"
   ]
  },
  {
   "cell_type": "markdown",
   "metadata": {
    "id": "dJ-owQMkWGqn"
   },
   "source": [
    "# Do the training and test sets have the same data?"
   ]
  },
  {
   "cell_type": "code",
   "execution_count": null,
   "metadata": {
    "id": "eowHDrSzSOFi"
   },
   "outputs": [],
   "source": [
    "X = df_scaled.drop(['RainTomorrow'], axis=1)\n",
    "\n",
    "y = df_scaled['RainTomorrow']"
   ]
  },
  {
   "cell_type": "code",
   "execution_count": null,
   "metadata": {
    "id": "l389Th5IUKxM"
   },
   "outputs": [],
   "source": [
    "# split X and y into training and testing sets\n",
    "\n",
    "from sklearn.model_selection import train_test_split\n",
    "\n",
    "X_train, X_test, y_train, y_test = train_test_split(X, y, test_size = 0.2, random_state = 0)"
   ]
  },
  {
   "cell_type": "code",
   "execution_count": null,
   "metadata": {
    "colab": {
     "base_uri": "https://localhost:8080/",
     "height": 0
    },
    "id": "5B-PSFPhUSCC",
    "outputId": "ce98d141-f47d-4456-ebad-764c5d694f7f"
   },
   "outputs": [],
   "source": [
    "print(X_train.shape)"
   ]
  },
  {
   "cell_type": "code",
   "execution_count": null,
   "metadata": {
    "colab": {
     "base_uri": "https://localhost:8080/",
     "height": 0
    },
    "id": "T5i_ic6FUVd0",
    "outputId": "3ec29c50-427b-4132-f4cb-8496a7f57c2d"
   },
   "outputs": [],
   "source": [
    "print(X_test.shape)"
   ]
  },
  {
   "cell_type": "markdown",
   "metadata": {
    "id": "-dstC4mYeAhc"
   },
   "source": [
    "No, by looking at the shape of data training and test sets have different data. They are divided with 80:20 ratio"
   ]
  },
  {
   "cell_type": "code",
   "execution_count": null,
   "metadata": {
    "id": "cVLbTFtGgX5g"
   },
   "outputs": [],
   "source": [
    "# Initializing Random Forest Classifier\n",
    "RandForest_RFE = RandomForestClassifier()\n",
    "# Initializing the RFE object, one of the most important arguments is the estimator, in this case is RandomForest\n",
    "rfe = RFE(estimator=RandForest_RFE, n_features_to_select=10, step=1)\n",
    "# Fit the origial dataset\n",
    "rfe = rfe.fit(X_train, y_train)"
   ]
  },
  {
   "cell_type": "code",
   "execution_count": null,
   "metadata": {
    "colab": {
     "base_uri": "https://localhost:8080/",
     "height": 0
    },
    "id": "ggEXFTqfgZzo",
    "outputId": "24a131ce-2031-4d75-a57d-c111560ecdbf"
   },
   "outputs": [],
   "source": [
    "print(\"Best features chosen by RFE: \\n\")\n",
    "\n",
    "for i in X_train.columns[rfe.support_]:\n",
    "    print(i)"
   ]
  },
  {
   "cell_type": "code",
   "execution_count": null,
   "metadata": {
    "id": "9lycY4gPtt3d"
   },
   "outputs": [],
   "source": [
    "y_pred = rfe.predict(X_test)"
   ]
  },
  {
   "cell_type": "code",
   "execution_count": null,
   "metadata": {
    "colab": {
     "base_uri": "https://localhost:8080/",
     "height": 627
    },
    "id": "rLdWwMVFt9IP",
    "outputId": "5dba2b42-49d6-414f-c29b-a6857d830ab2"
   },
   "outputs": [],
   "source": [
    "# Create the confusion matrix\n",
    "cm = confusion_matrix(y_test, y_pred)\n",
    "\n",
    "# Print the confusion matrix\n",
    "print(\"Confusion Matrix:\" ,cm)\n",
    "print('True Positives(TP) = ', cm[0,0])\n",
    "print('True Negatives(TN) = ', cm[1,1])\n",
    "print('False Positives(FP) = ', cm[0,1])\n",
    "print('False Negatives(FN) = ', cm[1,0])\n",
    "\n",
    "# visualize confusion matrix with seaborn heatmap\n",
    "cm_matrix = pd.DataFrame(data=cm, columns=['Actual Positive:1', 'Actual Negative:0'],\n",
    "                                  index=['Predict Positive:1', 'Predict Negative:0'])\n",
    "sns.heatmap(cm_matrix, annot=True, fmt='d', cmap='YlGnBu')\n",
    "\n",
    "# print classification accuracy\n",
    "classification_accuracy = (cm[0,0] + cm[1,1]) / float(cm[0,0] + cm[1,1] + cm[0,1] + cm[1,0])\n",
    "print('Classification accuracy : {0:0.4f}'.format(classification_accuracy))\n",
    "\n",
    "# print classification error\n",
    "classification_error = (cm[0,1] + cm[1,0]) / float(cm[0,0] + cm[1,1] + cm[0,1] + cm[1,0])\n",
    "print('Classification error : {0:0.4f}'.format(classification_error))"
   ]
  },
  {
   "cell_type": "markdown",
   "metadata": {
    "id": "-WknYacweM8a"
   },
   "source": [
    "logistic regression on most important features"
   ]
  },
  {
   "cell_type": "code",
   "execution_count": null,
   "metadata": {
    "colab": {
     "base_uri": "https://localhost:8080/",
     "height": 238
    },
    "id": "V9TKgjVauyEO",
    "outputId": "f1dd6df3-9de6-4d24-843f-cb6ae0b685a0"
   },
   "outputs": [],
   "source": [
    "from sklearn.linear_model import LogisticRegression\n",
    "# Initialize the logistic regression model\n",
    "logistic_reg_model = LogisticRegression()\n",
    "\n",
    "# Train the model on the training data\n",
    "logistic_reg_model.fit(X_train, y_train)\n"
   ]
  },
  {
   "cell_type": "code",
   "execution_count": null,
   "metadata": {
    "id": "sqXvT1USu7Ca"
   },
   "outputs": [],
   "source": [
    "y_pred = logistic_reg_model.predict(X_test)"
   ]
  },
  {
   "cell_type": "code",
   "execution_count": null,
   "metadata": {
    "colab": {
     "base_uri": "https://localhost:8080/",
     "height": 0
    },
    "id": "QRJn4t6Bu-74",
    "outputId": "528aac21-852a-4325-a820-b8fb6eeccca1"
   },
   "outputs": [],
   "source": [
    "from sklearn.metrics import accuracy_score, classification_report, confusion_matrix\n",
    "\n",
    "# Calculate accuracy\n",
    "accuracy = accuracy_score(y_test, y_pred)\n",
    "print(f'Accuracy: {accuracy:.2f}')\n",
    "\n",
    "# Generate a classification report\n",
    "report = classification_report(y_test, y_pred)\n",
    "print('Classification Report:\\n', report)\n",
    "\n",
    "# Create a confusion matrix\n",
    "cm = confusion_matrix(y_test, y_pred)\n",
    "print('Confusion Matrix:\\n', cm)\n"
   ]
  },
  {
   "cell_type": "markdown",
   "metadata": {
    "id": "87nyNjZu2aYQ"
   },
   "source": [
    "We can anticipate that the RandomForestClassification model is likely to achieve a higher accuracy score, approximately 88%, compared to the Logistic Regression model, which is expected to yield an accuracy of around 86%."
   ]
  },
  {
   "cell_type": "markdown",
   "metadata": {
    "id": "KPii_E6siyx-"
   },
   "source": [
    "# Remove outliers and keep outliers (does if have an effect of the final predictive model)?"
   ]
  },
  {
   "cell_type": "code",
   "execution_count": null,
   "metadata": {
    "id": "K9q_jEwzEDjF"
   },
   "outputs": [],
   "source": [
    "df_Oclean = df_scaled.copy()"
   ]
  },
  {
   "cell_type": "code",
   "execution_count": null,
   "metadata": {
    "id": "4AXOi4c73itw"
   },
   "outputs": [],
   "source": [
    "def remove_out(df_Oclean, num_cols, lbv=0.25, hbv=0.75):\n",
    "    Q1 = df_Oclean[num_cols].quantile(lbv)\n",
    "    Q3 = df_Oclean[num_cols].quantile(hbv)\n",
    "    IQR = Q3-Q1\n",
    "    lb = Q1-1.5*IQR\n",
    "    hb = Q3+1.5*IQR\n",
    "    for i in num_cols:\n",
    "        df_Oclean = df_Oclean[(df_Oclean[i]>=lb[i]) & (df_Oclean[i]<=hb[i])]\n",
    "    return df_Oclean"
   ]
  },
  {
   "cell_type": "code",
   "execution_count": null,
   "metadata": {
    "id": "_FIh31FUDv73"
   },
   "outputs": [],
   "source": [
    "cols_outliers = ['MinTemp', 'MaxTemp', 'Rainfall',\n",
    "       'WindGustSpeed', 'WindSpeed9am', 'WindSpeed3pm', 'Humidity9am',\n",
    "       'Humidity3pm', 'Pressure9am', 'Pressure3pm', 'Cloud9am', 'Cloud3pm',\n",
    "       'Temp9am', 'Temp3pm', 'Year', 'Month', 'Day', 'Evaporation', 'Sunshine','RainToday', 'RainTomorrow']"
   ]
  },
  {
   "cell_type": "code",
   "execution_count": null,
   "metadata": {
    "colab": {
     "base_uri": "https://localhost:8080/",
     "height": 0
    },
    "id": "xSHuA3EoEaC-",
    "outputId": "c63422d2-a617-4e1e-d278-0c9c644f3c79"
   },
   "outputs": [],
   "source": [
    "df_clean = remove_out(df_Oclean, cols_outliers, lbv=0.10, hbv=0.90)\n",
    "df_clean.shape"
   ]
  },
  {
   "cell_type": "code",
   "execution_count": null,
   "metadata": {
    "id": "zAJVV67NKkLa"
   },
   "outputs": [],
   "source": [
    "X_new = df_clean.drop(['RainTomorrow'], axis=1)\n",
    "\n",
    "y_new = df_clean['RainTomorrow']"
   ]
  },
  {
   "cell_type": "code",
   "execution_count": null,
   "metadata": {
    "colab": {
     "base_uri": "https://localhost:8080/",
     "height": 0
    },
    "id": "j9bj2fe1Kt2L",
    "outputId": "4c8cf418-50b8-4546-f55c-f51fa281cd09"
   },
   "outputs": [],
   "source": [
    "X_new.shape"
   ]
  },
  {
   "cell_type": "code",
   "execution_count": null,
   "metadata": {
    "id": "30HMm6-rK9Ft"
   },
   "outputs": [],
   "source": [
    "# split X_new and y_new into training and testing sets\n",
    "\n",
    "from sklearn.model_selection import train_test_split\n",
    "\n",
    "X_train_new, X_test_new, y_train_new, y_test_new = train_test_split(X_new, y_new, test_size = 0.2, random_state = 0)"
   ]
  },
  {
   "cell_type": "code",
   "execution_count": null,
   "metadata": {
    "colab": {
     "base_uri": "https://localhost:8080/",
     "height": 0
    },
    "id": "o1H2b7tILLJu",
    "outputId": "7bfea0b3-5a88-414f-f7c5-91cde4072937"
   },
   "outputs": [],
   "source": [
    "print(X_train_new.shape)"
   ]
  },
  {
   "cell_type": "code",
   "execution_count": null,
   "metadata": {
    "colab": {
     "base_uri": "https://localhost:8080/",
     "height": 0
    },
    "id": "Yl2A-4tnLTKe",
    "outputId": "03a5b19a-505d-4119-ced4-fad8103ab195"
   },
   "outputs": [],
   "source": [
    "print(X_test_new.shape)"
   ]
  },
  {
   "cell_type": "code",
   "execution_count": null,
   "metadata": {
    "id": "k7D2mIsCLikq"
   },
   "outputs": [],
   "source": [
    "# Initializing Random Forest Classifier\n",
    "RandForest_RFE = RandomForestClassifier()\n",
    "# Initializing the RFE object, one of the most important arguments is the estimator, in this case is RandomForest\n",
    "rfe = RFE(estimator=RandForest_RFE, n_features_to_select=10, step=1)\n",
    "# Fit the origial dataset\n",
    "rfe = rfe.fit(X_train_new, y_train_new)"
   ]
  },
  {
   "cell_type": "code",
   "execution_count": null,
   "metadata": {
    "id": "CnIK8D4qSyCJ"
   },
   "outputs": [],
   "source": [
    "y_pred_new = rfe.predict(X_test_new)"
   ]
  },
  {
   "cell_type": "code",
   "execution_count": null,
   "metadata": {
    "colab": {
     "base_uri": "https://localhost:8080/",
     "height": 627
    },
    "id": "OjCukM07S3F2",
    "outputId": "d7e60cd9-2ec2-49a2-b63a-fd187f0094fd"
   },
   "outputs": [],
   "source": [
    "# Create the confusion matrix\n",
    "cm1 = confusion_matrix(y_test_new, y_pred_new)\n",
    "\n",
    "# Print the confusion matrix\n",
    "print(\"Confusion Matrix:\" ,cm1)\n",
    "print('True Positives(TP) = ', cm1[0,0])\n",
    "print('True Negatives(TN) = ', cm1[1,1])\n",
    "print('False Positives(FP) = ', cm1[0,1])\n",
    "print('False Negatives(FN) = ', cm1[1,0])\n",
    "\n",
    "# visualize confusion matrix with seaborn heatmap\n",
    "cm_matrix1 = pd.DataFrame(data=cm1, columns=['Actual Positive:1', 'Actual Negative:0'],\n",
    "                                  index=['Predict Positive:1', 'Predict Negative:0'])\n",
    "sns.heatmap(cm_matrix1, annot=True, fmt='d', cmap='YlGnBu')\n",
    "\n",
    "# print classification accuracy\n",
    "classification_accuracy1 = (cm1[0,0] + cm1[1,1]) / float(cm1[0,0] + cm1[1,1] + cm1[0,1] + cm1[1,0])\n",
    "print('Classification accuracy : {0:0.4f}'.format(classification_accuracy1))\n",
    "\n",
    "# print classification error\n",
    "classification_error1 = (cm1[0,1] + cm1[1,0]) / float(cm1[0,0] + cm1[1,1] + cm1[0,1] + cm1[1,0])\n",
    "print('Classification error : {0:0.4f}'.format(classification_error1))"
   ]
  },
  {
   "cell_type": "code",
   "execution_count": null,
   "metadata": {
    "colab": {
     "base_uri": "https://localhost:8080/",
     "height": 0
    },
    "id": "VQgvdga9WjCx",
    "outputId": "b9a6c21c-73f2-46b4-90c6-addcc7382326"
   },
   "outputs": [],
   "source": [
    "from sklearn.metrics import accuracy_score, classification_report, confusion_matrix\n",
    "\n",
    "# Calculate accuracy\n",
    "accuracy2 = accuracy_score(y_test_new, y_pred_new)\n",
    "print(f'Accuracy: {accuracy2:.2f}')\n",
    "\n",
    "# Generate a classification report\n",
    "report2 = classification_report(y_test_new, y_pred_new)\n",
    "print('Classification Report:\\n', report2)\n",
    "\n",
    "# Create a confusion matrix\n",
    "cm2 = confusion_matrix(y_test_new, y_pred_new)\n",
    "print('Confusion Matrix:\\n', cm2)"
   ]
  },
  {
   "cell_type": "markdown",
   "metadata": {
    "id": "f9PWepoV3G55"
   },
   "source": [
    "Upon removing outliers, we observed a notable improvement in the accuracy score, reaching 89%. This enhancement underscores the significant impact of outliers on the final predictive model's performance."
   ]
  },
  {
   "cell_type": "markdown",
   "metadata": {
    "id": "OfeNGXJei3C0"
   },
   "source": [
    "# Remove 1%, 5%, and 10% of your data randomly and impute the values back using at least 3 imputation methods. How well did the methods recover the missing values?  That is remove some data, check the % error on residuals for numeric data and check for bias and variance of the error."
   ]
  },
  {
   "cell_type": "code",
   "execution_count": null,
   "metadata": {
    "id": "iWvKDZNEaM_K"
   },
   "outputs": [],
   "source": [
    "# remove 1%\n",
    "n=round(0.99*len(df_scaled))\n",
    "red_data1 = df_scaled.sample(n=n)\n",
    "\n",
    "# remove 5%\n",
    "n=round(0.95*len(df_scaled))\n",
    "red_data5 = df_scaled.sample(n=n)\n",
    "\n",
    "# remove 10%\n",
    "n=round(0.90*len(df_scaled))\n",
    "red_data10 = df_scaled.sample(n=n)"
   ]
  },
  {
   "cell_type": "markdown",
   "metadata": {
    "id": "4XYcmt6Lb4sX"
   },
   "source": [
    "##Data imputation using mode"
   ]
  },
  {
   "cell_type": "markdown",
   "metadata": {
    "id": "TI_Ssw-aBh-S"
   },
   "source": [
    "Data imputation using the mode involves replacing missing values in a dataset with the most frequently occurring value (mode) in the respective column. This imputation method is commonly used for categorical variables and discrete data. It helps maintain the distribution of the variable while filling in missing entries with the most common category."
   ]
  },
  {
   "cell_type": "code",
   "execution_count": null,
   "metadata": {
    "id": "Zcr0EYeVcVHo"
   },
   "outputs": [],
   "source": [
    "imputed_data1 = red_data1.copy(deep=True)\n",
    "for col in imputed_data1.columns:\n",
    "  imputed_data1[col] = imputimputed_data1ed_data_1[col].fillna(imputed_data1[col].mode()[0])\n",
    "\n",
    "imputed_data5 = red_data5.copy(deep=True)\n",
    "for col in imputed_data5.columns:\n",
    "  imputed_data5[col] = imputed_data5[col].fillna(imputed_data5[col].mode()[0])\n",
    "\n",
    "\n",
    "imputed_data10 = red_data10.copy(deep=True)\n",
    "for col in imputed_data10.columns:\n",
    "  imputed_data10[col] = imputed_data10[col].fillna(imputed_data10[col].mode()[0])"
   ]
  },
  {
   "cell_type": "code",
   "execution_count": null,
   "metadata": {
    "colab": {
     "base_uri": "https://localhost:8080/",
     "height": 0
    },
    "id": "FnskT3wEc98J",
    "outputId": "a76cfb38-ab37-4d52-db72-296f6fde9d8a"
   },
   "outputs": [],
   "source": [
    "X = imputed_data1.drop(['RainTomorrow'], axis=1)\n",
    "\n",
    "y = imputed_data1['RainTomorrow']\n",
    "\n",
    "X_train_red, X_test_red, y_train_red, y_test_red = train_test_split(X, y, test_size = 0.2, random_state = 0)\n",
    "\n",
    "# Initializing Random Forest Classifier\n",
    "RandForest_RFE = RandomForestClassifier()\n",
    "# Initializing the RFE object, one of the most important arguments is the estimator, in this case is RandomForest\n",
    "rfe = RFE(estimator=RandForest_RFE, n_features_to_select=10, step=1)\n",
    "# Fit the origial dataset\n",
    "rfe = rfe.fit(X_train_red, y_train_red)\n",
    "\n",
    "y_pred_red = rfe.predict(X_test_red)\n",
    "\n",
    "# Calculate accuracy\n",
    "accuracy = accuracy_score(y_test_red, y_pred_red)\n",
    "print(f'Accuracy: {accuracy:}')\n",
    "\n",
    "# Generate a classification report\n",
    "report = classification_report(y_test_red, y_pred_red)\n",
    "print('Classification Report:\\n', report)\n",
    "\n",
    "# Create a confusion matrix\n",
    "cm = confusion_matrix(y_test_red, y_pred_red)\n",
    "print('Confusion Matrix:\\n', cm)"
   ]
  },
  {
   "cell_type": "code",
   "execution_count": null,
   "metadata": {
    "colab": {
     "base_uri": "https://localhost:8080/",
     "height": 0
    },
    "id": "yQ97T4EPd86U",
    "outputId": "da8347c8-d2d7-4b33-d19f-83d9520a01be"
   },
   "outputs": [],
   "source": [
    "X = imputed_data5.drop(['RainTomorrow'], axis=1)\n",
    "\n",
    "y = imputed_data5['RainTomorrow']\n",
    "\n",
    "X_train_red, X_test_red, y_train_red, y_test_red = train_test_split(X, y, test_size = 0.2, random_state = 0)\n",
    "\n",
    "# Initializing Random Forest Classifier\n",
    "RandForest_RFE = RandomForestClassifier()\n",
    "# Initializing the RFE object, one of the most important arguments is the estimator, in this case is RandomForest\n",
    "rfe = RFE(estimator=RandForest_RFE, n_features_to_select=10, step=1)\n",
    "# Fit the origial dataset\n",
    "rfe = rfe.fit(X_train_red, y_train_red)\n",
    "\n",
    "y_pred_red = rfe.predict(X_test_red)\n",
    "\n",
    "# Calculate accuracy\n",
    "accuracy = accuracy_score(y_test_red, y_pred_red)\n",
    "print(f'Accuracy: {accuracy:}')\n",
    "\n",
    "# Generate a classification report\n",
    "report = classification_report(y_test_red, y_pred_red)\n",
    "print('Classification Report:\\n', report)\n",
    "\n",
    "# Create a confusion matrix\n",
    "cm = confusion_matrix(y_test_red, y_pred_red)\n",
    "print('Confusion Matrix:\\n', cm)"
   ]
  },
  {
   "cell_type": "code",
   "execution_count": null,
   "metadata": {
    "colab": {
     "base_uri": "https://localhost:8080/",
     "height": 0
    },
    "id": "GqjMD6leeokb",
    "outputId": "4ed1f8f3-72c9-4d1a-b845-e76c4d21b2b3"
   },
   "outputs": [],
   "source": [
    "X = imputed_data10.drop(['RainTomorrow'], axis=1)\n",
    "\n",
    "y = imputed_data10['RainTomorrow']\n",
    "\n",
    "X_train_red, X_test_red, y_train_red, y_test_red = train_test_split(X, y, test_size = 0.2, random_state = 0)\n",
    "\n",
    "# Initializing Random Forest Classifier\n",
    "RandForest_RFE = RandomForestClassifier()\n",
    "# Initializing the RFE object, one of the most important arguments is the estimator, in this case is RandomForest\n",
    "rfe = RFE(estimator=RandForest_RFE, n_features_to_select=10, step=1)\n",
    "# Fit the origial dataset\n",
    "rfe = rfe.fit(X_train_red, y_train_red)\n",
    "\n",
    "y_pred_red = rfe.predict(X_test_red)\n",
    "\n",
    "# Calculate accuracy\n",
    "accuracy = accuracy_score(y_test_red, y_pred_red)\n",
    "print(f'Accuracy: {accuracy:}')\n",
    "\n",
    "# Generate a classification report\n",
    "report = classification_report(y_test_red, y_pred_red)\n",
    "print('Classification Report:\\n', report)\n",
    "\n",
    "# Create a confusion matrix\n",
    "cm = confusion_matrix(y_test_red, y_pred_red)\n",
    "print('Confusion Matrix:\\n', cm)"
   ]
  },
  {
   "cell_type": "markdown",
   "metadata": {
    "id": "pvx78HQmd0EN"
   },
   "source": [
    "## Data imputation using median"
   ]
  },
  {
   "cell_type": "markdown",
   "metadata": {
    "id": "d2rsR-zdBzWh"
   },
   "source": [
    "Data imputation using the median involves replacing missing values in a dataset with the median value of the respective column. This imputation method is commonly used for continuous numerical variables and is robust to outliers. It helps maintain the central tendency of the data while filling in missing entries with a representative value."
   ]
  },
  {
   "cell_type": "code",
   "execution_count": null,
   "metadata": {
    "id": "GKMi0zmXdy4b"
   },
   "outputs": [],
   "source": [
    "imputed_data1 = red_data1.copy(deep=True)\n",
    "for col in imputed_data1.columns:\n",
    "  imputed_data1[col] = imputed_data1[col].fillna(imputed_data1[col].median())\n",
    "\n",
    "imputed_data5 = red_data5.copy(deep=True)\n",
    "for col in imputed_data5.columns:\n",
    "  imputed_data5[col] = imputed_data_5[col].fillna(imputed_data5[col].median())\n",
    "\n",
    "\n",
    "imputed_data10 = red_data10.copy(deep=True)\n",
    "for col in imputed_data10.columns:\n",
    "  imputed_data10[col] = imputed_data10[col].fillna(imputed_data10[col].median())"
   ]
  },
  {
   "cell_type": "code",
   "execution_count": null,
   "metadata": {
    "colab": {
     "base_uri": "https://localhost:8080/",
     "height": 0
    },
    "id": "ad9pFwsdfTEe",
    "outputId": "b69b69da-5d79-4367-92d9-777a017086fc"
   },
   "outputs": [],
   "source": [
    "X = imputed_data1.drop(['RainTomorrow'], axis=1)\n",
    "\n",
    "y = imputed_data1['RainTomorrow']\n",
    "\n",
    "X_train_red, X_test_red, y_train_red, y_test_red = train_test_split(X, y, test_size = 0.2, random_state = 0)\n",
    "\n",
    "# Initializing Random Forest Classifier\n",
    "RandForest_RFE = RandomForestClassifier()\n",
    "# Initializing the RFE object, one of the most important arguments is the estimator, in this case is RandomForest\n",
    "rfe = RFE(estimator=RandForest_RFE, n_features_to_select=10, step=1)\n",
    "# Fit the origial dataset\n",
    "rfe = rfe.fit(X_train_red, y_train_red)\n",
    "\n",
    "y_pred_red = rfe.predict(X_test_red)\n",
    "\n",
    "# Calculate accuracy\n",
    "accuracy = accuracy_score(y_test_red, y_pred_red)\n",
    "print(f'Accuracy: {accuracy:}')\n",
    "\n",
    "# Generate a classification report\n",
    "report = classification_report(y_test_red, y_pred_red)\n",
    "print('Classification Report:\\n', report)\n",
    "\n",
    "# Create a confusion matrix\n",
    "cm = confusion_matrix(y_test_red, y_pred_red)\n",
    "print('Confusion Matrix:\\n', cm)"
   ]
  },
  {
   "cell_type": "code",
   "execution_count": null,
   "metadata": {
    "colab": {
     "base_uri": "https://localhost:8080/",
     "height": 0
    },
    "id": "BKrgeIL_jyBV",
    "outputId": "b3d63dca-1f25-4fe8-b5b8-db29be57bb37"
   },
   "outputs": [],
   "source": [
    "X = imputed_data5.drop(['RainTomorrow'], axis=1)\n",
    "\n",
    "y = imputed_data5['RainTomorrow']\n",
    "\n",
    "X_train_red, X_test_red, y_train_red, y_test_red = train_test_split(X, y, test_size = 0.2, random_state = 0)\n",
    "\n",
    "# Initializing Random Forest Classifier\n",
    "RandForest_RFE = RandomForestClassifier()\n",
    "# Initializing the RFE object, one of the most important arguments is the estimator, in this case is RandomForest\n",
    "rfe = RFE(estimator=RandForest_RFE, n_features_to_select=10, step=1)\n",
    "# Fit the origial dataset\n",
    "rfe = rfe.fit(X_train_red, y_train_red)\n",
    "\n",
    "y_pred_red = rfe.predict(X_test_red)\n",
    "\n",
    "# Calculate accuracy\n",
    "accuracy = accuracy_score(y_test_red, y_pred_red)\n",
    "print(f'Accuracy: {accuracy:}')\n",
    "\n",
    "# Generate a classification report\n",
    "report = classification_report(y_test_red, y_pred_red)\n",
    "print('Classification Report:\\n', report)\n",
    "\n",
    "# Create a confusion matrix\n",
    "cm = confusion_matrix(y_test_red, y_pred_red)\n",
    "print('Confusion Matrix:\\n', cm)"
   ]
  },
  {
   "cell_type": "code",
   "execution_count": null,
   "metadata": {
    "colab": {
     "base_uri": "https://localhost:8080/",
     "height": 0
    },
    "id": "c6v4WbN-j1Zv",
    "outputId": "c9a4a8c1-d2a7-436b-9666-42aadc578fda"
   },
   "outputs": [],
   "source": [
    "X = imputed_data10.drop(['RainTomorrow'], axis=1)\n",
    "\n",
    "y = imputed_data10['RainTomorrow']\n",
    "\n",
    "X_train_red, X_test_red, y_train_red, y_test_red = train_test_split(X, y, test_size = 0.2, random_state = 0)\n",
    "\n",
    "# Initializing Random Forest Classifier\n",
    "RandForest_RFE = RandomForestClassifier()\n",
    "# Initializing the RFE object, one of the most important arguments is the estimator, in this case is RandomForest\n",
    "rfe = RFE(estimator=RandForest_RFE, n_features_to_select=10, step=1)\n",
    "# Fit the origial dataset\n",
    "rfe = rfe.fit(X_train_red, y_train_red)\n",
    "\n",
    "y_pred_red = rfe.predict(X_test_red)\n",
    "\n",
    "# Calculate accuracy\n",
    "accuracy = accuracy_score(y_test_red, y_pred_red)\n",
    "print(f'Accuracy: {accuracy:}')\n",
    "\n",
    "# Generate a classification report\n",
    "report = classification_report(y_test_red, y_pred_red)\n",
    "print('Classification Report:\\n', report)\n",
    "\n",
    "# Create a confusion matrix\n",
    "cm = confusion_matrix(y_test_red, y_pred_red)\n",
    "print('Confusion Matrix:\\n', cm)"
   ]
  },
  {
   "cell_type": "markdown",
   "metadata": {
    "id": "_UmkpSR5j58x"
   },
   "source": [
    "## Data imputation using MICE"
   ]
  },
  {
   "cell_type": "markdown",
   "metadata": {
    "id": "Ooef7rraCGuZ"
   },
   "source": [
    "Data imputation using the Multiple Imputation by Chained Equations (MICE) iterative method is a technique for handling missing data by imputing values through a series of predictive models. It's particularly useful when dealing with datasets where missing values are not completely at random and when you want to preserve the relationships between variables."
   ]
  },
  {
   "cell_type": "code",
   "execution_count": null,
   "metadata": {
    "id": "OSFvXFJpj8uJ"
   },
   "outputs": [],
   "source": [
    "imputed_data1 = red_data1.copy(deep=True)\n",
    "mice_imputer = IterativeImputer()\n",
    "imputed_data1.iloc[:, :] = mice_imputer.fit_transform(reduced_data1)\n",
    "\n",
    "imputed_data5 = red_data5.copy(deep=True)\n",
    "imputed_data5.iloc[:, :] = mice_imputer.fit_transform(reduced_data5)\n",
    "\n",
    "imputed_data10 = red_data10.copy(deep=True)\n",
    "imputed_data10.iloc[:, :] = mice_imputer.fit_transform(reduced_data10)"
   ]
  },
  {
   "cell_type": "code",
   "execution_count": null,
   "metadata": {
    "colab": {
     "base_uri": "https://localhost:8080/",
     "height": 0
    },
    "id": "DVDXRP9tkMF0",
    "outputId": "f8727f1a-da03-44f1-f98b-881b9f472f65"
   },
   "outputs": [],
   "source": [
    "X = imputed_data1.drop(['RainTomorrow'], axis=1)\n",
    "\n",
    "y = imputed_data1['RainTomorrow']\n",
    "\n",
    "X_train_red, X_test_red, y_train_red, y_test_red = train_test_split(X, y, test_size = 0.2, random_state = 0)\n",
    "\n",
    "# Initializing Random Forest Classifier\n",
    "RandForest_RFE = RandomForestClassifier()\n",
    "# Initializing the RFE object, one of the most important arguments is the estimator, in this case is RandomForest\n",
    "rfe = RFE(estimator=RandForest_RFE, n_features_to_select=10, step=1)\n",
    "# Fit the origial dataset\n",
    "rfe = rfe.fit(X_train_red, y_train_red)\n",
    "\n",
    "y_pred_red = rfe.predict(X_test_red)\n",
    "\n",
    "# Calculate accuracy\n",
    "accuracy = accuracy_score(y_test_red, y_pred_red)\n",
    "print(f'Accuracy: {accuracy:}')\n",
    "\n",
    "# Generate a classification report\n",
    "report = classification_report(y_test_red, y_pred_red)\n",
    "print('Classification Report:\\n', report)\n",
    "\n",
    "# Create a confusion matrix\n",
    "cm = confusion_matrix(y_test_red, y_pred_red)\n",
    "print('Confusion Matrix:\\n', cm)"
   ]
  },
  {
   "cell_type": "code",
   "execution_count": null,
   "metadata": {
    "colab": {
     "base_uri": "https://localhost:8080/",
     "height": 0
    },
    "id": "2iHlouu2kPCQ",
    "outputId": "47f4f251-2e10-4f11-bc20-5c138aceaa6f"
   },
   "outputs": [],
   "source": [
    "X = imputed_data5.drop(['RainTomorrow'], axis=1)\n",
    "\n",
    "y = imputed_data5['RainTomorrow']\n",
    "\n",
    "X_train_red, X_test_red, y_train_red, y_test_red = train_test_split(X, y, test_size = 0.2, random_state = 0)\n",
    "\n",
    "# Initializing Random Forest Classifier\n",
    "RandForest_RFE = RandomForestClassifier()\n",
    "# Initializing the RFE object, one of the most important arguments is the estimator, in this case is RandomForest\n",
    "rfe = RFE(estimator=RandForest_RFE, n_features_to_select=10, step=1)\n",
    "# Fit the origial dataset\n",
    "rfe = rfe.fit(X_train_red, y_train_red)\n",
    "\n",
    "y_pred_red = rfe.predict(X_test_red)\n",
    "\n",
    "# Calculate accuracy\n",
    "accuracy = accuracy_score(y_test_red, y_pred_red)\n",
    "print(f'Accuracy: {accuracy:}')\n",
    "\n",
    "# Generate a classification report\n",
    "report = classification_report(y_test_red, y_pred_red)\n",
    "print('Classification Report:\\n', report)\n",
    "\n",
    "# Create a confusion matrix\n",
    "cm = confusion_matrix(y_test_red, y_pred_red)\n",
    "print('Confusion Matrix:\\n', cm)"
   ]
  },
  {
   "cell_type": "code",
   "execution_count": null,
   "metadata": {
    "colab": {
     "base_uri": "https://localhost:8080/",
     "height": 0
    },
    "id": "KgE_eDXykRxs",
    "outputId": "af7a22cf-0fc8-4bd3-fea3-ca865c794af4"
   },
   "outputs": [],
   "source": [
    "X = imputed_data10.drop(['RainTomorrow'], axis=1)\n",
    "\n",
    "y = imputed_data10['RainTomorrow']\n",
    "\n",
    "X_train_red, X_test_red, y_train_red, y_test_red = train_test_split(X, y, test_size = 0.2, random_state = 0)\n",
    "\n",
    "# Initializing Random Forest Classifier\n",
    "RandForest_RFE = RandomForestClassifier()\n",
    "# Initializing the RFE object, one of the most important arguments is the estimator, in this case is RandomForest\n",
    "rfe = RFE(estimator=RandForest_RFE, n_features_to_select=10, step=1)\n",
    "# Fit the origial dataset\n",
    "rfe = rfe.fit(X_train_red, y_train_red)\n",
    "\n",
    "y_pred_red = rfe.predict(X_test_red)\n",
    "\n",
    "# Calculate accuracy\n",
    "accuracy = accuracy_score(y_test_red, y_pred_red)\n",
    "print(f'Accuracy: {accuracy:}')\n",
    "\n",
    "# Generate a classification report\n",
    "report = classification_report(y_test_red, y_pred_red)\n",
    "print('Classification Report:\\n', report)\n",
    "\n",
    "# Create a confusion matrix\n",
    "cm = confusion_matrix(y_test_red, y_pred_red)\n",
    "print('Confusion Matrix:\\n', cm)"
   ]
  },
  {
   "cell_type": "markdown",
   "metadata": {
    "id": "c9FYGsmW7ixh"
   },
   "source": [
    "# Questions"
   ]
  },
  {
   "cell_type": "markdown",
   "metadata": {
    "id": "0sz20tvr426x"
   },
   "source": [
    "* Which independent variables are useful to predict a target (dependent variable)?\n",
    "As observed earlier, all variables demonstrate a significant influence on the target variable. However, for predictive modeling, the following variables have been identified as particularly valuable:\n",
    "1) MinTemp\n",
    "2) MaxTemp\n",
    "3) Sunshine\n",
    "4) WindGustSpeed\n",
    "5) Humidity3pm\n",
    "6) Pressure9am\n",
    "7) Pressure3pm\n",
    "8) Cloud9am\n",
    "9) Cloud3pm\n",
    "10) Temp3pm\n",
    "\n",
    "* Which independent variable have missing data? How much?\n",
    ">Among the variables, Pressure9am, Pressure3pm, and sunshine exhibit a relatively higher rate of missing data, ranging from 30% to 50%. In contrast, the remaining variables demonstrate a lower prevalence of missing values.\n",
    "\n",
    "* Do the training and test sets have the same data?\n",
    ">The training and test sets are characterized by distinct data ranges, and they have been partitioned in an 80:20 ratio.\n",
    "\n",
    "* In the predictor variables independent of all the other predictor variables?\n",
    ">No, instead we have observed robust correlations among predictor variables themselves.\n",
    "\n",
    "* Which predictor variables are the most important?\n",
    ">RainToday, Cloud3pm, Cloud9am, Humidity3pm, Humidity9am, WindGustSpeed and Rainfall are most important variable for predicting taget.\n",
    "\n",
    "* Do the ranges of the predictor variables make sense?\n",
    "> yes, looking at boxplot we can infer that ranges of predictor variables makes sense\n",
    "\n",
    "* What are the distributions of the predictor variables?\n",
    ">*   Bimodal Distributions: Sunshine, Cloud9am, Cloud3pm\n",
    " *   Exponential Distributions: Rainfall, Evaporation, WindSpeed9am, WindSpeed3pm\n",
    " *   Skewed Normal Distributions: MinTemp, MaxTemp, WindGustSpeed, Humidity9am, Humidity3pm, Pressure9am, Pressure3pm, Temp9am, Temp3pm\n"
   ]
  },
  {
   "cell_type": "markdown",
   "metadata": {
    "id": "PKgYdydJGu2S"
   },
   "source": [
    "# References\n",
    "\n",
    "[Machine Learning A-Z™: AI, Python & R + ChatGPT Bonus [2023]- Udemy](https://www.udemy.com/course/machinelearning/)\n",
    "\n",
    "[Data Cleaning and EDA- Youtube](https://www.youtube.com/watch?v=VCt7UaIr64I)\n",
    "\n",
    "https://github.com/aiskunks/YouTube/blob/main/A_Crash_Course_in_Statistical_Learning/ML_Data_Cleaning_and_Feature_Selection/ML_Data_Cleaning_and_Feature_Selection_Abalone.ipynb\n",
    "\n",
    "https://machinelearningmastery.com/calculate-feature-importance-with-python/\n",
    "\n"
   ]
  },
  {
   "cell_type": "markdown",
   "metadata": {
    "id": "_vscIyiqWs3n"
   },
   "source": [
    "#Copyright"
   ]
  },
  {
   "cell_type": "markdown",
   "metadata": {
    "id": "-w55i447kc-6"
   },
   "source": [
    "Copyright (c) 2023 Asawari Anant Kadam\n",
    "\n",
    "Permission is hereby granted, free of charge, to any person obtaining a copy of this software and associated documentation files (the \"Software\"), to deal in the Software without restriction, including without limitation the rights to use, copy, modify, merge, publish, distribute, sublicense, and/or sell copies of the Software, and to permit persons to whom the Software is furnished to do so, subject to the following conditions:\n",
    "\n",
    "The above copyright notice and this permission notice shall be included in all copies or substantial portions of the Software.\n",
    "\n",
    "THE SOFTWARE IS PROVIDED \"AS IS\", WITHOUT WARRANTY OF ANY KIND, EXPRESS OR IMPLIED, INCLUDING BUT NOT LIMITED TO THE WARRANTIES OF MERCHANTABILITY, FITNESS FOR A PARTICULAR PURPOSE AND NONINFRINGEMENT. IN NO EVENT SHALL THE AUTHORS OR COPYRIGHT HOLDERS BE LIABLE FOR ANY CLAIM, DAMAGES OR OTHER LIABILITY, WHETHER IN AN ACTION OF CONTRACT, TORT OR OTHERWISE, ARISING FROM, OUT OF OR IN CONNECTION WITH THE SOFTWARE OR THE USE OR OTHER DEALINGS IN THE SOFTWARE."
   ]
  }
 ],
 "metadata": {
  "colab": {
   "provenance": [],
   "toc_visible": true
  },
  "kernelspec": {
   "display_name": "Python 3 (ipykernel)",
   "language": "python",
   "name": "python3"
  },
  "language_info": {
   "codemirror_mode": {
    "name": "ipython",
    "version": 3
   },
   "file_extension": ".py",
   "mimetype": "text/x-python",
   "name": "python",
   "nbconvert_exporter": "python",
   "pygments_lexer": "ipython3",
   "version": "3.12.1"
  },
  "widgets": {
   "application/vnd.jupyter.widget-state+json": {
    "001342ca9012499383aa38b58a24fae1": {
     "model_module": "@jupyter-widgets/base",
     "model_module_version": "1.2.0",
     "model_name": "LayoutModel",
     "state": {
      "_model_module": "@jupyter-widgets/base",
      "_model_module_version": "1.2.0",
      "_model_name": "LayoutModel",
      "_view_count": null,
      "_view_module": "@jupyter-widgets/base",
      "_view_module_version": "1.2.0",
      "_view_name": "LayoutView",
      "align_content": null,
      "align_items": null,
      "align_self": null,
      "border": null,
      "bottom": null,
      "display": null,
      "flex": null,
      "flex_flow": null,
      "grid_area": null,
      "grid_auto_columns": null,
      "grid_auto_flow": null,
      "grid_auto_rows": null,
      "grid_column": null,
      "grid_gap": null,
      "grid_row": null,
      "grid_template_areas": null,
      "grid_template_columns": null,
      "grid_template_rows": null,
      "height": null,
      "justify_content": null,
      "justify_items": null,
      "left": null,
      "margin": null,
      "max_height": null,
      "max_width": null,
      "min_height": null,
      "min_width": null,
      "object_fit": null,
      "object_position": null,
      "order": null,
      "overflow": null,
      "overflow_x": null,
      "overflow_y": null,
      "padding": null,
      "right": null,
      "top": null,
      "visibility": null,
      "width": null
     }
    },
    "0063484727c14041aa95c4a2349da18c": {
     "model_module": "@jupyter-widgets/controls",
     "model_module_version": "1.5.0",
     "model_name": "HBoxModel",
     "state": {
      "_dom_classes": [],
      "_model_module": "@jupyter-widgets/controls",
      "_model_module_version": "1.5.0",
      "_model_name": "HBoxModel",
      "_view_count": null,
      "_view_module": "@jupyter-widgets/controls",
      "_view_module_version": "1.5.0",
      "_view_name": "HBoxView",
      "box_style": "",
      "children": [
       "IPY_MODEL_e3a6812030ad4aa0b184d58b2a3acd4e",
       "IPY_MODEL_dc7ba10092344cc1bee7b32225d42ab8",
       "IPY_MODEL_b86ada47385c4e19a26e43010a0d9a5c"
      ],
      "layout": "IPY_MODEL_87ff46665f1747a5994a61524eba885f"
     }
    },
    "0913cd8d4e324fffad3730f7bf8ea0ba": {
     "model_module": "@jupyter-widgets/controls",
     "model_module_version": "1.5.0",
     "model_name": "DescriptionStyleModel",
     "state": {
      "_model_module": "@jupyter-widgets/controls",
      "_model_module_version": "1.5.0",
      "_model_name": "DescriptionStyleModel",
      "_view_count": null,
      "_view_module": "@jupyter-widgets/base",
      "_view_module_version": "1.2.0",
      "_view_name": "StyleView",
      "description_width": ""
     }
    },
    "0c7adc64e6744af386f0b4ed0be2b338": {
     "model_module": "@jupyter-widgets/controls",
     "model_module_version": "1.5.0",
     "model_name": "HTMLModel",
     "state": {
      "_dom_classes": [],
      "_model_module": "@jupyter-widgets/controls",
      "_model_module_version": "1.5.0",
      "_model_name": "HTMLModel",
      "_view_count": null,
      "_view_module": "@jupyter-widgets/controls",
      "_view_module_version": "1.5.0",
      "_view_name": "HTMLView",
      "description": "",
      "description_tooltip": null,
      "layout": "IPY_MODEL_e6951a1824bc4759b88b680f06766ff6",
      "placeholder": "​",
      "style": "IPY_MODEL_b1b8bb3c2a0c4a5187562a0e5d57f0d6",
      "value": "Summarize dataset: 100%"
     }
    },
    "0f086c06ae0049b18167aa4574384d44": {
     "model_module": "@jupyter-widgets/controls",
     "model_module_version": "1.5.0",
     "model_name": "HTMLModel",
     "state": {
      "_dom_classes": [],
      "_model_module": "@jupyter-widgets/controls",
      "_model_module_version": "1.5.0",
      "_model_name": "HTMLModel",
      "_view_count": null,
      "_view_module": "@jupyter-widgets/controls",
      "_view_module_version": "1.5.0",
      "_view_name": "HTMLView",
      "description": "",
      "description_tooltip": null,
      "layout": "IPY_MODEL_5a1f3bdd07fd43e6b62d87e84d959aec",
      "placeholder": "​",
      "style": "IPY_MODEL_5f796b06ea274b64b2e05f202c2d8f86",
      "value": "Generate report structure: 100%"
     }
    },
    "1a76a1456f0a442c8211fa94fcf2a047": {
     "model_module": "@jupyter-widgets/controls",
     "model_module_version": "1.5.0",
     "model_name": "HTMLModel",
     "state": {
      "_dom_classes": [],
      "_model_module": "@jupyter-widgets/controls",
      "_model_module_version": "1.5.0",
      "_model_name": "HTMLModel",
      "_view_count": null,
      "_view_module": "@jupyter-widgets/controls",
      "_view_module_version": "1.5.0",
      "_view_name": "HTMLView",
      "description": "",
      "description_tooltip": null,
      "layout": "IPY_MODEL_75d940c7fd1b4812aa6a49e4c94e99ae",
      "placeholder": "​",
      "style": "IPY_MODEL_84960c448a25408486d2033c582f0f71",
      "value": " 31/31 [00:00&lt;00:00, 28.17it/s, Completed]"
     }
    },
    "1fc9e879cde54bf79e6bade79c000642": {
     "model_module": "@jupyter-widgets/controls",
     "model_module_version": "1.5.0",
     "model_name": "DescriptionStyleModel",
     "state": {
      "_model_module": "@jupyter-widgets/controls",
      "_model_module_version": "1.5.0",
      "_model_name": "DescriptionStyleModel",
      "_view_count": null,
      "_view_module": "@jupyter-widgets/base",
      "_view_module_version": "1.2.0",
      "_view_name": "StyleView",
      "description_width": ""
     }
    },
    "21545dd9557c417c9298729c9d5ddec1": {
     "model_module": "@jupyter-widgets/controls",
     "model_module_version": "1.5.0",
     "model_name": "HTMLModel",
     "state": {
      "_dom_classes": [],
      "_model_module": "@jupyter-widgets/controls",
      "_model_module_version": "1.5.0",
      "_model_name": "HTMLModel",
      "_view_count": null,
      "_view_module": "@jupyter-widgets/controls",
      "_view_module_version": "1.5.0",
      "_view_name": "HTMLView",
      "description": "",
      "description_tooltip": null,
      "layout": "IPY_MODEL_72a7a05cf83540d4983fa71a85bc90a4",
      "placeholder": "​",
      "style": "IPY_MODEL_40843639851c47a3917b46825ff2b2af",
      "value": "Generate report structure: 100%"
     }
    },
    "22e1d42c3b924c48ab387835c96d1aa1": {
     "model_module": "@jupyter-widgets/controls",
     "model_module_version": "1.5.0",
     "model_name": "HTMLModel",
     "state": {
      "_dom_classes": [],
      "_model_module": "@jupyter-widgets/controls",
      "_model_module_version": "1.5.0",
      "_model_name": "HTMLModel",
      "_view_count": null,
      "_view_module": "@jupyter-widgets/controls",
      "_view_module_version": "1.5.0",
      "_view_name": "HTMLView",
      "description": "",
      "description_tooltip": null,
      "layout": "IPY_MODEL_f15c7f01ff654880881dcfc7201ba35f",
      "placeholder": "​",
      "style": "IPY_MODEL_85ac26288d1f49f99e86017e09c33dbd",
      "value": " 25/25 [00:00&lt;00:00, 36.80it/s, Completed]"
     }
    },
    "2811b9b27001479ab6c5bd883d5a6d9a": {
     "model_module": "@jupyter-widgets/base",
     "model_module_version": "1.2.0",
     "model_name": "LayoutModel",
     "state": {
      "_model_module": "@jupyter-widgets/base",
      "_model_module_version": "1.2.0",
      "_model_name": "LayoutModel",
      "_view_count": null,
      "_view_module": "@jupyter-widgets/base",
      "_view_module_version": "1.2.0",
      "_view_name": "LayoutView",
      "align_content": null,
      "align_items": null,
      "align_self": null,
      "border": null,
      "bottom": null,
      "display": null,
      "flex": null,
      "flex_flow": null,
      "grid_area": null,
      "grid_auto_columns": null,
      "grid_auto_flow": null,
      "grid_auto_rows": null,
      "grid_column": null,
      "grid_gap": null,
      "grid_row": null,
      "grid_template_areas": null,
      "grid_template_columns": null,
      "grid_template_rows": null,
      "height": null,
      "justify_content": null,
      "justify_items": null,
      "left": null,
      "margin": null,
      "max_height": null,
      "max_width": null,
      "min_height": null,
      "min_width": null,
      "object_fit": null,
      "object_position": null,
      "order": null,
      "overflow": null,
      "overflow_x": null,
      "overflow_y": null,
      "padding": null,
      "right": null,
      "top": null,
      "visibility": null,
      "width": null
     }
    },
    "2966f0d19cdc4051b269ae7c6f43f9ed": {
     "model_module": "@jupyter-widgets/controls",
     "model_module_version": "1.5.0",
     "model_name": "HBoxModel",
     "state": {
      "_dom_classes": [],
      "_model_module": "@jupyter-widgets/controls",
      "_model_module_version": "1.5.0",
      "_model_name": "HBoxModel",
      "_view_count": null,
      "_view_module": "@jupyter-widgets/controls",
      "_view_module_version": "1.5.0",
      "_view_name": "HBoxView",
      "box_style": "",
      "children": [
       "IPY_MODEL_0c7adc64e6744af386f0b4ed0be2b338",
       "IPY_MODEL_852008c74e654eb1a6158e074593fc43",
       "IPY_MODEL_1a76a1456f0a442c8211fa94fcf2a047"
      ],
      "layout": "IPY_MODEL_f7bbcdc7fd304f03ac7ecd2082883b67"
     }
    },
    "29a6f280a322401ebaa4594c08e26793": {
     "model_module": "@jupyter-widgets/controls",
     "model_module_version": "1.5.0",
     "model_name": "HTMLModel",
     "state": {
      "_dom_classes": [],
      "_model_module": "@jupyter-widgets/controls",
      "_model_module_version": "1.5.0",
      "_model_name": "HTMLModel",
      "_view_count": null,
      "_view_module": "@jupyter-widgets/controls",
      "_view_module_version": "1.5.0",
      "_view_name": "HTMLView",
      "description": "",
      "description_tooltip": null,
      "layout": "IPY_MODEL_5646fdbfdad04a5393233d9c3e4b4329",
      "placeholder": "​",
      "style": "IPY_MODEL_1fc9e879cde54bf79e6bade79c000642",
      "value": "Render HTML: 100%"
     }
    },
    "2a393d1c7b134191925b56b59b927200": {
     "model_module": "@jupyter-widgets/base",
     "model_module_version": "1.2.0",
     "model_name": "LayoutModel",
     "state": {
      "_model_module": "@jupyter-widgets/base",
      "_model_module_version": "1.2.0",
      "_model_name": "LayoutModel",
      "_view_count": null,
      "_view_module": "@jupyter-widgets/base",
      "_view_module_version": "1.2.0",
      "_view_name": "LayoutView",
      "align_content": null,
      "align_items": null,
      "align_self": null,
      "border": null,
      "bottom": null,
      "display": null,
      "flex": null,
      "flex_flow": null,
      "grid_area": null,
      "grid_auto_columns": null,
      "grid_auto_flow": null,
      "grid_auto_rows": null,
      "grid_column": null,
      "grid_gap": null,
      "grid_row": null,
      "grid_template_areas": null,
      "grid_template_columns": null,
      "grid_template_rows": null,
      "height": null,
      "justify_content": null,
      "justify_items": null,
      "left": null,
      "margin": null,
      "max_height": null,
      "max_width": null,
      "min_height": null,
      "min_width": null,
      "object_fit": null,
      "object_position": null,
      "order": null,
      "overflow": null,
      "overflow_x": null,
      "overflow_y": null,
      "padding": null,
      "right": null,
      "top": null,
      "visibility": null,
      "width": null
     }
    },
    "349341cd86684697b5d9c2cda48c132e": {
     "model_module": "@jupyter-widgets/controls",
     "model_module_version": "1.5.0",
     "model_name": "DescriptionStyleModel",
     "state": {
      "_model_module": "@jupyter-widgets/controls",
      "_model_module_version": "1.5.0",
      "_model_name": "DescriptionStyleModel",
      "_view_count": null,
      "_view_module": "@jupyter-widgets/base",
      "_view_module_version": "1.2.0",
      "_view_name": "StyleView",
      "description_width": ""
     }
    },
    "358a38d13595470f9a1b7bd3f42266f1": {
     "model_module": "@jupyter-widgets/base",
     "model_module_version": "1.2.0",
     "model_name": "LayoutModel",
     "state": {
      "_model_module": "@jupyter-widgets/base",
      "_model_module_version": "1.2.0",
      "_model_name": "LayoutModel",
      "_view_count": null,
      "_view_module": "@jupyter-widgets/base",
      "_view_module_version": "1.2.0",
      "_view_name": "LayoutView",
      "align_content": null,
      "align_items": null,
      "align_self": null,
      "border": null,
      "bottom": null,
      "display": null,
      "flex": null,
      "flex_flow": null,
      "grid_area": null,
      "grid_auto_columns": null,
      "grid_auto_flow": null,
      "grid_auto_rows": null,
      "grid_column": null,
      "grid_gap": null,
      "grid_row": null,
      "grid_template_areas": null,
      "grid_template_columns": null,
      "grid_template_rows": null,
      "height": null,
      "justify_content": null,
      "justify_items": null,
      "left": null,
      "margin": null,
      "max_height": null,
      "max_width": null,
      "min_height": null,
      "min_width": null,
      "object_fit": null,
      "object_position": null,
      "order": null,
      "overflow": null,
      "overflow_x": null,
      "overflow_y": null,
      "padding": null,
      "right": null,
      "top": null,
      "visibility": null,
      "width": null
     }
    },
    "36ec899a3ed94ee6afb48bd6d18b803e": {
     "model_module": "@jupyter-widgets/base",
     "model_module_version": "1.2.0",
     "model_name": "LayoutModel",
     "state": {
      "_model_module": "@jupyter-widgets/base",
      "_model_module_version": "1.2.0",
      "_model_name": "LayoutModel",
      "_view_count": null,
      "_view_module": "@jupyter-widgets/base",
      "_view_module_version": "1.2.0",
      "_view_name": "LayoutView",
      "align_content": null,
      "align_items": null,
      "align_self": null,
      "border": null,
      "bottom": null,
      "display": null,
      "flex": null,
      "flex_flow": null,
      "grid_area": null,
      "grid_auto_columns": null,
      "grid_auto_flow": null,
      "grid_auto_rows": null,
      "grid_column": null,
      "grid_gap": null,
      "grid_row": null,
      "grid_template_areas": null,
      "grid_template_columns": null,
      "grid_template_rows": null,
      "height": null,
      "justify_content": null,
      "justify_items": null,
      "left": null,
      "margin": null,
      "max_height": null,
      "max_width": null,
      "min_height": null,
      "min_width": null,
      "object_fit": null,
      "object_position": null,
      "order": null,
      "overflow": null,
      "overflow_x": null,
      "overflow_y": null,
      "padding": null,
      "right": null,
      "top": null,
      "visibility": null,
      "width": null
     }
    },
    "3baeb846d002438d97c1266443974b1f": {
     "model_module": "@jupyter-widgets/controls",
     "model_module_version": "1.5.0",
     "model_name": "HTMLModel",
     "state": {
      "_dom_classes": [],
      "_model_module": "@jupyter-widgets/controls",
      "_model_module_version": "1.5.0",
      "_model_name": "HTMLModel",
      "_view_count": null,
      "_view_module": "@jupyter-widgets/controls",
      "_view_module_version": "1.5.0",
      "_view_name": "HTMLView",
      "description": "",
      "description_tooltip": null,
      "layout": "IPY_MODEL_7b9f6d9c10d74099b54ebdb6e95a7fe8",
      "placeholder": "​",
      "style": "IPY_MODEL_738993d9e8744ee890dedfc950d98fe9",
      "value": " 1/1 [00:02&lt;00:00,  2.43s/it]"
     }
    },
    "3d55c74a608545fbac7cca47cfd0a1e7": {
     "model_module": "@jupyter-widgets/controls",
     "model_module_version": "1.5.0",
     "model_name": "FloatProgressModel",
     "state": {
      "_dom_classes": [],
      "_model_module": "@jupyter-widgets/controls",
      "_model_module_version": "1.5.0",
      "_model_name": "FloatProgressModel",
      "_view_count": null,
      "_view_module": "@jupyter-widgets/controls",
      "_view_module_version": "1.5.0",
      "_view_name": "ProgressView",
      "bar_style": "success",
      "description": "",
      "description_tooltip": null,
      "layout": "IPY_MODEL_dcabdea4495c4ae280b8f139811ea9f8",
      "max": 5,
      "min": 0,
      "orientation": "horizontal",
      "style": "IPY_MODEL_fc2aa17d53fd49d7acba5841293eddee",
      "value": 5
     }
    },
    "40843639851c47a3917b46825ff2b2af": {
     "model_module": "@jupyter-widgets/controls",
     "model_module_version": "1.5.0",
     "model_name": "DescriptionStyleModel",
     "state": {
      "_model_module": "@jupyter-widgets/controls",
      "_model_module_version": "1.5.0",
      "_model_name": "DescriptionStyleModel",
      "_view_count": null,
      "_view_module": "@jupyter-widgets/base",
      "_view_module_version": "1.2.0",
      "_view_name": "StyleView",
      "description_width": ""
     }
    },
    "431cf64ba1464fd581c34e29388d1613": {
     "model_module": "@jupyter-widgets/base",
     "model_module_version": "1.2.0",
     "model_name": "LayoutModel",
     "state": {
      "_model_module": "@jupyter-widgets/base",
      "_model_module_version": "1.2.0",
      "_model_name": "LayoutModel",
      "_view_count": null,
      "_view_module": "@jupyter-widgets/base",
      "_view_module_version": "1.2.0",
      "_view_name": "LayoutView",
      "align_content": null,
      "align_items": null,
      "align_self": null,
      "border": null,
      "bottom": null,
      "display": null,
      "flex": null,
      "flex_flow": null,
      "grid_area": null,
      "grid_auto_columns": null,
      "grid_auto_flow": null,
      "grid_auto_rows": null,
      "grid_column": null,
      "grid_gap": null,
      "grid_row": null,
      "grid_template_areas": null,
      "grid_template_columns": null,
      "grid_template_rows": null,
      "height": null,
      "justify_content": null,
      "justify_items": null,
      "left": null,
      "margin": null,
      "max_height": null,
      "max_width": null,
      "min_height": null,
      "min_width": null,
      "object_fit": null,
      "object_position": null,
      "order": null,
      "overflow": null,
      "overflow_x": null,
      "overflow_y": null,
      "padding": null,
      "right": null,
      "top": null,
      "visibility": null,
      "width": null
     }
    },
    "438706abc20147cbb3f7f10fca443f84": {
     "model_module": "@jupyter-widgets/controls",
     "model_module_version": "1.5.0",
     "model_name": "HBoxModel",
     "state": {
      "_dom_classes": [],
      "_model_module": "@jupyter-widgets/controls",
      "_model_module_version": "1.5.0",
      "_model_name": "HBoxModel",
      "_view_count": null,
      "_view_module": "@jupyter-widgets/controls",
      "_view_module_version": "1.5.0",
      "_view_name": "HBoxView",
      "box_style": "",
      "children": [
       "IPY_MODEL_d206808337d340588286d38d5686fd16",
       "IPY_MODEL_3d55c74a608545fbac7cca47cfd0a1e7",
       "IPY_MODEL_22e1d42c3b924c48ab387835c96d1aa1"
      ],
      "layout": "IPY_MODEL_84f08687cdfa47eba3eeade65c2bdc98"
     }
    },
    "46caf6c32f4f4c3f92ce83e362f38a7c": {
     "model_module": "@jupyter-widgets/controls",
     "model_module_version": "1.5.0",
     "model_name": "DescriptionStyleModel",
     "state": {
      "_model_module": "@jupyter-widgets/controls",
      "_model_module_version": "1.5.0",
      "_model_name": "DescriptionStyleModel",
      "_view_count": null,
      "_view_module": "@jupyter-widgets/base",
      "_view_module_version": "1.2.0",
      "_view_name": "StyleView",
      "description_width": ""
     }
    },
    "4dafa438eda84efd9dc06b1f3ea59c69": {
     "model_module": "@jupyter-widgets/controls",
     "model_module_version": "1.5.0",
     "model_name": "DescriptionStyleModel",
     "state": {
      "_model_module": "@jupyter-widgets/controls",
      "_model_module_version": "1.5.0",
      "_model_name": "DescriptionStyleModel",
      "_view_count": null,
      "_view_module": "@jupyter-widgets/base",
      "_view_module_version": "1.2.0",
      "_view_name": "StyleView",
      "description_width": ""
     }
    },
    "5646fdbfdad04a5393233d9c3e4b4329": {
     "model_module": "@jupyter-widgets/base",
     "model_module_version": "1.2.0",
     "model_name": "LayoutModel",
     "state": {
      "_model_module": "@jupyter-widgets/base",
      "_model_module_version": "1.2.0",
      "_model_name": "LayoutModel",
      "_view_count": null,
      "_view_module": "@jupyter-widgets/base",
      "_view_module_version": "1.2.0",
      "_view_name": "LayoutView",
      "align_content": null,
      "align_items": null,
      "align_self": null,
      "border": null,
      "bottom": null,
      "display": null,
      "flex": null,
      "flex_flow": null,
      "grid_area": null,
      "grid_auto_columns": null,
      "grid_auto_flow": null,
      "grid_auto_rows": null,
      "grid_column": null,
      "grid_gap": null,
      "grid_row": null,
      "grid_template_areas": null,
      "grid_template_columns": null,
      "grid_template_rows": null,
      "height": null,
      "justify_content": null,
      "justify_items": null,
      "left": null,
      "margin": null,
      "max_height": null,
      "max_width": null,
      "min_height": null,
      "min_width": null,
      "object_fit": null,
      "object_position": null,
      "order": null,
      "overflow": null,
      "overflow_x": null,
      "overflow_y": null,
      "padding": null,
      "right": null,
      "top": null,
      "visibility": null,
      "width": null
     }
    },
    "570f289d67b549d2a5d4d28eb3bb0b9e": {
     "model_module": "@jupyter-widgets/controls",
     "model_module_version": "1.5.0",
     "model_name": "ProgressStyleModel",
     "state": {
      "_model_module": "@jupyter-widgets/controls",
      "_model_module_version": "1.5.0",
      "_model_name": "ProgressStyleModel",
      "_view_count": null,
      "_view_module": "@jupyter-widgets/base",
      "_view_module_version": "1.2.0",
      "_view_name": "StyleView",
      "bar_color": null,
      "description_width": ""
     }
    },
    "5a1f3bdd07fd43e6b62d87e84d959aec": {
     "model_module": "@jupyter-widgets/base",
     "model_module_version": "1.2.0",
     "model_name": "LayoutModel",
     "state": {
      "_model_module": "@jupyter-widgets/base",
      "_model_module_version": "1.2.0",
      "_model_name": "LayoutModel",
      "_view_count": null,
      "_view_module": "@jupyter-widgets/base",
      "_view_module_version": "1.2.0",
      "_view_name": "LayoutView",
      "align_content": null,
      "align_items": null,
      "align_self": null,
      "border": null,
      "bottom": null,
      "display": null,
      "flex": null,
      "flex_flow": null,
      "grid_area": null,
      "grid_auto_columns": null,
      "grid_auto_flow": null,
      "grid_auto_rows": null,
      "grid_column": null,
      "grid_gap": null,
      "grid_row": null,
      "grid_template_areas": null,
      "grid_template_columns": null,
      "grid_template_rows": null,
      "height": null,
      "justify_content": null,
      "justify_items": null,
      "left": null,
      "margin": null,
      "max_height": null,
      "max_width": null,
      "min_height": null,
      "min_width": null,
      "object_fit": null,
      "object_position": null,
      "order": null,
      "overflow": null,
      "overflow_x": null,
      "overflow_y": null,
      "padding": null,
      "right": null,
      "top": null,
      "visibility": null,
      "width": null
     }
    },
    "5c2aa81cd28946198a5f95cdf1805a1a": {
     "model_module": "@jupyter-widgets/base",
     "model_module_version": "1.2.0",
     "model_name": "LayoutModel",
     "state": {
      "_model_module": "@jupyter-widgets/base",
      "_model_module_version": "1.2.0",
      "_model_name": "LayoutModel",
      "_view_count": null,
      "_view_module": "@jupyter-widgets/base",
      "_view_module_version": "1.2.0",
      "_view_name": "LayoutView",
      "align_content": null,
      "align_items": null,
      "align_self": null,
      "border": null,
      "bottom": null,
      "display": null,
      "flex": null,
      "flex_flow": null,
      "grid_area": null,
      "grid_auto_columns": null,
      "grid_auto_flow": null,
      "grid_auto_rows": null,
      "grid_column": null,
      "grid_gap": null,
      "grid_row": null,
      "grid_template_areas": null,
      "grid_template_columns": null,
      "grid_template_rows": null,
      "height": null,
      "justify_content": null,
      "justify_items": null,
      "left": null,
      "margin": null,
      "max_height": null,
      "max_width": null,
      "min_height": null,
      "min_width": null,
      "object_fit": null,
      "object_position": null,
      "order": null,
      "overflow": null,
      "overflow_x": null,
      "overflow_y": null,
      "padding": null,
      "right": null,
      "top": null,
      "visibility": null,
      "width": null
     }
    },
    "5e81d98e34a842b8a82dc2894981d225": {
     "model_module": "@jupyter-widgets/controls",
     "model_module_version": "1.5.0",
     "model_name": "HTMLModel",
     "state": {
      "_dom_classes": [],
      "_model_module": "@jupyter-widgets/controls",
      "_model_module_version": "1.5.0",
      "_model_name": "HTMLModel",
      "_view_count": null,
      "_view_module": "@jupyter-widgets/controls",
      "_view_module_version": "1.5.0",
      "_view_name": "HTMLView",
      "description": "",
      "description_tooltip": null,
      "layout": "IPY_MODEL_cf79de8584a041b2ba11f1f1764ec8f6",
      "placeholder": "​",
      "style": "IPY_MODEL_4dafa438eda84efd9dc06b1f3ea59c69",
      "value": " 1/1 [00:18&lt;00:00, 18.48s/it]"
     }
    },
    "5f796b06ea274b64b2e05f202c2d8f86": {
     "model_module": "@jupyter-widgets/controls",
     "model_module_version": "1.5.0",
     "model_name": "DescriptionStyleModel",
     "state": {
      "_model_module": "@jupyter-widgets/controls",
      "_model_module_version": "1.5.0",
      "_model_name": "DescriptionStyleModel",
      "_view_count": null,
      "_view_module": "@jupyter-widgets/base",
      "_view_module_version": "1.2.0",
      "_view_name": "StyleView",
      "description_width": ""
     }
    },
    "72a7a05cf83540d4983fa71a85bc90a4": {
     "model_module": "@jupyter-widgets/base",
     "model_module_version": "1.2.0",
     "model_name": "LayoutModel",
     "state": {
      "_model_module": "@jupyter-widgets/base",
      "_model_module_version": "1.2.0",
      "_model_name": "LayoutModel",
      "_view_count": null,
      "_view_module": "@jupyter-widgets/base",
      "_view_module_version": "1.2.0",
      "_view_name": "LayoutView",
      "align_content": null,
      "align_items": null,
      "align_self": null,
      "border": null,
      "bottom": null,
      "display": null,
      "flex": null,
      "flex_flow": null,
      "grid_area": null,
      "grid_auto_columns": null,
      "grid_auto_flow": null,
      "grid_auto_rows": null,
      "grid_column": null,
      "grid_gap": null,
      "grid_row": null,
      "grid_template_areas": null,
      "grid_template_columns": null,
      "grid_template_rows": null,
      "height": null,
      "justify_content": null,
      "justify_items": null,
      "left": null,
      "margin": null,
      "max_height": null,
      "max_width": null,
      "min_height": null,
      "min_width": null,
      "object_fit": null,
      "object_position": null,
      "order": null,
      "overflow": null,
      "overflow_x": null,
      "overflow_y": null,
      "padding": null,
      "right": null,
      "top": null,
      "visibility": null,
      "width": null
     }
    },
    "738993d9e8744ee890dedfc950d98fe9": {
     "model_module": "@jupyter-widgets/controls",
     "model_module_version": "1.5.0",
     "model_name": "DescriptionStyleModel",
     "state": {
      "_model_module": "@jupyter-widgets/controls",
      "_model_module_version": "1.5.0",
      "_model_name": "DescriptionStyleModel",
      "_view_count": null,
      "_view_module": "@jupyter-widgets/base",
      "_view_module_version": "1.2.0",
      "_view_name": "StyleView",
      "description_width": ""
     }
    },
    "73df98e0ade740b38cd6b65914b4e22b": {
     "model_module": "@jupyter-widgets/base",
     "model_module_version": "1.2.0",
     "model_name": "LayoutModel",
     "state": {
      "_model_module": "@jupyter-widgets/base",
      "_model_module_version": "1.2.0",
      "_model_name": "LayoutModel",
      "_view_count": null,
      "_view_module": "@jupyter-widgets/base",
      "_view_module_version": "1.2.0",
      "_view_name": "LayoutView",
      "align_content": null,
      "align_items": null,
      "align_self": null,
      "border": null,
      "bottom": null,
      "display": null,
      "flex": null,
      "flex_flow": null,
      "grid_area": null,
      "grid_auto_columns": null,
      "grid_auto_flow": null,
      "grid_auto_rows": null,
      "grid_column": null,
      "grid_gap": null,
      "grid_row": null,
      "grid_template_areas": null,
      "grid_template_columns": null,
      "grid_template_rows": null,
      "height": null,
      "justify_content": null,
      "justify_items": null,
      "left": null,
      "margin": null,
      "max_height": null,
      "max_width": null,
      "min_height": null,
      "min_width": null,
      "object_fit": null,
      "object_position": null,
      "order": null,
      "overflow": null,
      "overflow_x": null,
      "overflow_y": null,
      "padding": null,
      "right": null,
      "top": null,
      "visibility": null,
      "width": null
     }
    },
    "75d940c7fd1b4812aa6a49e4c94e99ae": {
     "model_module": "@jupyter-widgets/base",
     "model_module_version": "1.2.0",
     "model_name": "LayoutModel",
     "state": {
      "_model_module": "@jupyter-widgets/base",
      "_model_module_version": "1.2.0",
      "_model_name": "LayoutModel",
      "_view_count": null,
      "_view_module": "@jupyter-widgets/base",
      "_view_module_version": "1.2.0",
      "_view_name": "LayoutView",
      "align_content": null,
      "align_items": null,
      "align_self": null,
      "border": null,
      "bottom": null,
      "display": null,
      "flex": null,
      "flex_flow": null,
      "grid_area": null,
      "grid_auto_columns": null,
      "grid_auto_flow": null,
      "grid_auto_rows": null,
      "grid_column": null,
      "grid_gap": null,
      "grid_row": null,
      "grid_template_areas": null,
      "grid_template_columns": null,
      "grid_template_rows": null,
      "height": null,
      "justify_content": null,
      "justify_items": null,
      "left": null,
      "margin": null,
      "max_height": null,
      "max_width": null,
      "min_height": null,
      "min_width": null,
      "object_fit": null,
      "object_position": null,
      "order": null,
      "overflow": null,
      "overflow_x": null,
      "overflow_y": null,
      "padding": null,
      "right": null,
      "top": null,
      "visibility": null,
      "width": null
     }
    },
    "76a9f9a198a8401ba19489bf628c4534": {
     "model_module": "@jupyter-widgets/base",
     "model_module_version": "1.2.0",
     "model_name": "LayoutModel",
     "state": {
      "_model_module": "@jupyter-widgets/base",
      "_model_module_version": "1.2.0",
      "_model_name": "LayoutModel",
      "_view_count": null,
      "_view_module": "@jupyter-widgets/base",
      "_view_module_version": "1.2.0",
      "_view_name": "LayoutView",
      "align_content": null,
      "align_items": null,
      "align_self": null,
      "border": null,
      "bottom": null,
      "display": null,
      "flex": null,
      "flex_flow": null,
      "grid_area": null,
      "grid_auto_columns": null,
      "grid_auto_flow": null,
      "grid_auto_rows": null,
      "grid_column": null,
      "grid_gap": null,
      "grid_row": null,
      "grid_template_areas": null,
      "grid_template_columns": null,
      "grid_template_rows": null,
      "height": null,
      "justify_content": null,
      "justify_items": null,
      "left": null,
      "margin": null,
      "max_height": null,
      "max_width": null,
      "min_height": null,
      "min_width": null,
      "object_fit": null,
      "object_position": null,
      "order": null,
      "overflow": null,
      "overflow_x": null,
      "overflow_y": null,
      "padding": null,
      "right": null,
      "top": null,
      "visibility": null,
      "width": null
     }
    },
    "7a121278e82844348f995996644162c2": {
     "model_module": "@jupyter-widgets/controls",
     "model_module_version": "1.5.0",
     "model_name": "FloatProgressModel",
     "state": {
      "_dom_classes": [],
      "_model_module": "@jupyter-widgets/controls",
      "_model_module_version": "1.5.0",
      "_model_name": "FloatProgressModel",
      "_view_count": null,
      "_view_module": "@jupyter-widgets/controls",
      "_view_module_version": "1.5.0",
      "_view_name": "ProgressView",
      "bar_style": "success",
      "description": "",
      "description_tooltip": null,
      "layout": "IPY_MODEL_73df98e0ade740b38cd6b65914b4e22b",
      "max": 1,
      "min": 0,
      "orientation": "horizontal",
      "style": "IPY_MODEL_570f289d67b549d2a5d4d28eb3bb0b9e",
      "value": 1
     }
    },
    "7a8ba986a89b4e74b56005fda861a077": {
     "model_module": "@jupyter-widgets/controls",
     "model_module_version": "1.5.0",
     "model_name": "HBoxModel",
     "state": {
      "_dom_classes": [],
      "_model_module": "@jupyter-widgets/controls",
      "_model_module_version": "1.5.0",
      "_model_name": "HBoxModel",
      "_view_count": null,
      "_view_module": "@jupyter-widgets/controls",
      "_view_module_version": "1.5.0",
      "_view_name": "HBoxView",
      "box_style": "",
      "children": [
       "IPY_MODEL_0f086c06ae0049b18167aa4574384d44",
       "IPY_MODEL_bdb3b9a7e776466cb906f21988392bc3",
       "IPY_MODEL_5e81d98e34a842b8a82dc2894981d225"
      ],
      "layout": "IPY_MODEL_431cf64ba1464fd581c34e29388d1613"
     }
    },
    "7b9f6d9c10d74099b54ebdb6e95a7fe8": {
     "model_module": "@jupyter-widgets/base",
     "model_module_version": "1.2.0",
     "model_name": "LayoutModel",
     "state": {
      "_model_module": "@jupyter-widgets/base",
      "_model_module_version": "1.2.0",
      "_model_name": "LayoutModel",
      "_view_count": null,
      "_view_module": "@jupyter-widgets/base",
      "_view_module_version": "1.2.0",
      "_view_name": "LayoutView",
      "align_content": null,
      "align_items": null,
      "align_self": null,
      "border": null,
      "bottom": null,
      "display": null,
      "flex": null,
      "flex_flow": null,
      "grid_area": null,
      "grid_auto_columns": null,
      "grid_auto_flow": null,
      "grid_auto_rows": null,
      "grid_column": null,
      "grid_gap": null,
      "grid_row": null,
      "grid_template_areas": null,
      "grid_template_columns": null,
      "grid_template_rows": null,
      "height": null,
      "justify_content": null,
      "justify_items": null,
      "left": null,
      "margin": null,
      "max_height": null,
      "max_width": null,
      "min_height": null,
      "min_width": null,
      "object_fit": null,
      "object_position": null,
      "order": null,
      "overflow": null,
      "overflow_x": null,
      "overflow_y": null,
      "padding": null,
      "right": null,
      "top": null,
      "visibility": null,
      "width": null
     }
    },
    "84960c448a25408486d2033c582f0f71": {
     "model_module": "@jupyter-widgets/controls",
     "model_module_version": "1.5.0",
     "model_name": "DescriptionStyleModel",
     "state": {
      "_model_module": "@jupyter-widgets/controls",
      "_model_module_version": "1.5.0",
      "_model_name": "DescriptionStyleModel",
      "_view_count": null,
      "_view_module": "@jupyter-widgets/base",
      "_view_module_version": "1.2.0",
      "_view_name": "StyleView",
      "description_width": ""
     }
    },
    "84f08687cdfa47eba3eeade65c2bdc98": {
     "model_module": "@jupyter-widgets/base",
     "model_module_version": "1.2.0",
     "model_name": "LayoutModel",
     "state": {
      "_model_module": "@jupyter-widgets/base",
      "_model_module_version": "1.2.0",
      "_model_name": "LayoutModel",
      "_view_count": null,
      "_view_module": "@jupyter-widgets/base",
      "_view_module_version": "1.2.0",
      "_view_name": "LayoutView",
      "align_content": null,
      "align_items": null,
      "align_self": null,
      "border": null,
      "bottom": null,
      "display": null,
      "flex": null,
      "flex_flow": null,
      "grid_area": null,
      "grid_auto_columns": null,
      "grid_auto_flow": null,
      "grid_auto_rows": null,
      "grid_column": null,
      "grid_gap": null,
      "grid_row": null,
      "grid_template_areas": null,
      "grid_template_columns": null,
      "grid_template_rows": null,
      "height": null,
      "justify_content": null,
      "justify_items": null,
      "left": null,
      "margin": null,
      "max_height": null,
      "max_width": null,
      "min_height": null,
      "min_width": null,
      "object_fit": null,
      "object_position": null,
      "order": null,
      "overflow": null,
      "overflow_x": null,
      "overflow_y": null,
      "padding": null,
      "right": null,
      "top": null,
      "visibility": null,
      "width": null
     }
    },
    "852008c74e654eb1a6158e074593fc43": {
     "model_module": "@jupyter-widgets/controls",
     "model_module_version": "1.5.0",
     "model_name": "FloatProgressModel",
     "state": {
      "_dom_classes": [],
      "_model_module": "@jupyter-widgets/controls",
      "_model_module_version": "1.5.0",
      "_model_name": "FloatProgressModel",
      "_view_count": null,
      "_view_module": "@jupyter-widgets/controls",
      "_view_module_version": "1.5.0",
      "_view_name": "ProgressView",
      "bar_style": "success",
      "description": "",
      "description_tooltip": null,
      "layout": "IPY_MODEL_76a9f9a198a8401ba19489bf628c4534",
      "max": 5,
      "min": 0,
      "orientation": "horizontal",
      "style": "IPY_MODEL_f8657fea11004429b1e19f5c57313c34",
      "value": 5
     }
    },
    "85ac26288d1f49f99e86017e09c33dbd": {
     "model_module": "@jupyter-widgets/controls",
     "model_module_version": "1.5.0",
     "model_name": "DescriptionStyleModel",
     "state": {
      "_model_module": "@jupyter-widgets/controls",
      "_model_module_version": "1.5.0",
      "_model_name": "DescriptionStyleModel",
      "_view_count": null,
      "_view_module": "@jupyter-widgets/base",
      "_view_module_version": "1.2.0",
      "_view_name": "StyleView",
      "description_width": ""
     }
    },
    "87ff46665f1747a5994a61524eba885f": {
     "model_module": "@jupyter-widgets/base",
     "model_module_version": "1.2.0",
     "model_name": "LayoutModel",
     "state": {
      "_model_module": "@jupyter-widgets/base",
      "_model_module_version": "1.2.0",
      "_model_name": "LayoutModel",
      "_view_count": null,
      "_view_module": "@jupyter-widgets/base",
      "_view_module_version": "1.2.0",
      "_view_name": "LayoutView",
      "align_content": null,
      "align_items": null,
      "align_self": null,
      "border": null,
      "bottom": null,
      "display": null,
      "flex": null,
      "flex_flow": null,
      "grid_area": null,
      "grid_auto_columns": null,
      "grid_auto_flow": null,
      "grid_auto_rows": null,
      "grid_column": null,
      "grid_gap": null,
      "grid_row": null,
      "grid_template_areas": null,
      "grid_template_columns": null,
      "grid_template_rows": null,
      "height": null,
      "justify_content": null,
      "justify_items": null,
      "left": null,
      "margin": null,
      "max_height": null,
      "max_width": null,
      "min_height": null,
      "min_width": null,
      "object_fit": null,
      "object_position": null,
      "order": null,
      "overflow": null,
      "overflow_x": null,
      "overflow_y": null,
      "padding": null,
      "right": null,
      "top": null,
      "visibility": null,
      "width": null
     }
    },
    "8d66c92910224f1782d0553e4382967d": {
     "model_module": "@jupyter-widgets/base",
     "model_module_version": "1.2.0",
     "model_name": "LayoutModel",
     "state": {
      "_model_module": "@jupyter-widgets/base",
      "_model_module_version": "1.2.0",
      "_model_name": "LayoutModel",
      "_view_count": null,
      "_view_module": "@jupyter-widgets/base",
      "_view_module_version": "1.2.0",
      "_view_name": "LayoutView",
      "align_content": null,
      "align_items": null,
      "align_self": null,
      "border": null,
      "bottom": null,
      "display": null,
      "flex": null,
      "flex_flow": null,
      "grid_area": null,
      "grid_auto_columns": null,
      "grid_auto_flow": null,
      "grid_auto_rows": null,
      "grid_column": null,
      "grid_gap": null,
      "grid_row": null,
      "grid_template_areas": null,
      "grid_template_columns": null,
      "grid_template_rows": null,
      "height": null,
      "justify_content": null,
      "justify_items": null,
      "left": null,
      "margin": null,
      "max_height": null,
      "max_width": null,
      "min_height": null,
      "min_width": null,
      "object_fit": null,
      "object_position": null,
      "order": null,
      "overflow": null,
      "overflow_x": null,
      "overflow_y": null,
      "padding": null,
      "right": null,
      "top": null,
      "visibility": null,
      "width": null
     }
    },
    "9ccdaf40903345ac8dc6c693e300f449": {
     "model_module": "@jupyter-widgets/controls",
     "model_module_version": "1.5.0",
     "model_name": "ProgressStyleModel",
     "state": {
      "_model_module": "@jupyter-widgets/controls",
      "_model_module_version": "1.5.0",
      "_model_name": "ProgressStyleModel",
      "_view_count": null,
      "_view_module": "@jupyter-widgets/base",
      "_view_module_version": "1.2.0",
      "_view_name": "StyleView",
      "bar_color": null,
      "description_width": ""
     }
    },
    "a1fe8dd8a8694e14a6a0f0062cd8333a": {
     "model_module": "@jupyter-widgets/controls",
     "model_module_version": "1.5.0",
     "model_name": "DescriptionStyleModel",
     "state": {
      "_model_module": "@jupyter-widgets/controls",
      "_model_module_version": "1.5.0",
      "_model_name": "DescriptionStyleModel",
      "_view_count": null,
      "_view_module": "@jupyter-widgets/base",
      "_view_module_version": "1.2.0",
      "_view_name": "StyleView",
      "description_width": ""
     }
    },
    "ad380ec3e1294d619661e9a186529061": {
     "model_module": "@jupyter-widgets/controls",
     "model_module_version": "1.5.0",
     "model_name": "HBoxModel",
     "state": {
      "_dom_classes": [],
      "_model_module": "@jupyter-widgets/controls",
      "_model_module_version": "1.5.0",
      "_model_name": "HBoxModel",
      "_view_count": null,
      "_view_module": "@jupyter-widgets/controls",
      "_view_module_version": "1.5.0",
      "_view_name": "HBoxView",
      "box_style": "",
      "children": [
       "IPY_MODEL_21545dd9557c417c9298729c9d5ddec1",
       "IPY_MODEL_fec3f3c2708c4f82a08cd4c9f6b6b1b0",
       "IPY_MODEL_c371cf2e8bbb4efa947363607408b3cd"
      ],
      "layout": "IPY_MODEL_2811b9b27001479ab6c5bd883d5a6d9a"
     }
    },
    "b1b8bb3c2a0c4a5187562a0e5d57f0d6": {
     "model_module": "@jupyter-widgets/controls",
     "model_module_version": "1.5.0",
     "model_name": "DescriptionStyleModel",
     "state": {
      "_model_module": "@jupyter-widgets/controls",
      "_model_module_version": "1.5.0",
      "_model_name": "DescriptionStyleModel",
      "_view_count": null,
      "_view_module": "@jupyter-widgets/base",
      "_view_module_version": "1.2.0",
      "_view_name": "StyleView",
      "description_width": ""
     }
    },
    "b86ada47385c4e19a26e43010a0d9a5c": {
     "model_module": "@jupyter-widgets/controls",
     "model_module_version": "1.5.0",
     "model_name": "HTMLModel",
     "state": {
      "_dom_classes": [],
      "_model_module": "@jupyter-widgets/controls",
      "_model_module_version": "1.5.0",
      "_model_name": "HTMLModel",
      "_view_count": null,
      "_view_module": "@jupyter-widgets/controls",
      "_view_module_version": "1.5.0",
      "_view_name": "HTMLView",
      "description": "",
      "description_tooltip": null,
      "layout": "IPY_MODEL_36ec899a3ed94ee6afb48bd6d18b803e",
      "placeholder": "​",
      "style": "IPY_MODEL_349341cd86684697b5d9c2cda48c132e",
      "value": " 1/1 [00:00&lt;00:00,  1.63it/s]"
     }
    },
    "bdb3b9a7e776466cb906f21988392bc3": {
     "model_module": "@jupyter-widgets/controls",
     "model_module_version": "1.5.0",
     "model_name": "FloatProgressModel",
     "state": {
      "_dom_classes": [],
      "_model_module": "@jupyter-widgets/controls",
      "_model_module_version": "1.5.0",
      "_model_name": "FloatProgressModel",
      "_view_count": null,
      "_view_module": "@jupyter-widgets/controls",
      "_view_module_version": "1.5.0",
      "_view_name": "ProgressView",
      "bar_style": "success",
      "description": "",
      "description_tooltip": null,
      "layout": "IPY_MODEL_d9ce7c325b544794874de52abaf618e8",
      "max": 1,
      "min": 0,
      "orientation": "horizontal",
      "style": "IPY_MODEL_da09c06f366d43849a494f69cd9502ea",
      "value": 1
     }
    },
    "c2a9bc90dce94647a82a3260c6b79999": {
     "model_module": "@jupyter-widgets/controls",
     "model_module_version": "1.5.0",
     "model_name": "ProgressStyleModel",
     "state": {
      "_model_module": "@jupyter-widgets/controls",
      "_model_module_version": "1.5.0",
      "_model_name": "ProgressStyleModel",
      "_view_count": null,
      "_view_module": "@jupyter-widgets/base",
      "_view_module_version": "1.2.0",
      "_view_name": "StyleView",
      "bar_color": null,
      "description_width": ""
     }
    },
    "c371cf2e8bbb4efa947363607408b3cd": {
     "model_module": "@jupyter-widgets/controls",
     "model_module_version": "1.5.0",
     "model_name": "HTMLModel",
     "state": {
      "_dom_classes": [],
      "_model_module": "@jupyter-widgets/controls",
      "_model_module_version": "1.5.0",
      "_model_name": "HTMLModel",
      "_view_count": null,
      "_view_module": "@jupyter-widgets/controls",
      "_view_module_version": "1.5.0",
      "_view_name": "HTMLView",
      "description": "",
      "description_tooltip": null,
      "layout": "IPY_MODEL_5c2aa81cd28946198a5f95cdf1805a1a",
      "placeholder": "​",
      "style": "IPY_MODEL_0913cd8d4e324fffad3730f7bf8ea0ba",
      "value": " 1/1 [00:18&lt;00:00, 18.26s/it]"
     }
    },
    "cb50e23ef4af49b1bda24bcc62cf5e7e": {
     "model_module": "@jupyter-widgets/controls",
     "model_module_version": "1.5.0",
     "model_name": "HBoxModel",
     "state": {
      "_dom_classes": [],
      "_model_module": "@jupyter-widgets/controls",
      "_model_module_version": "1.5.0",
      "_model_name": "HBoxModel",
      "_view_count": null,
      "_view_module": "@jupyter-widgets/controls",
      "_view_module_version": "1.5.0",
      "_view_name": "HBoxView",
      "box_style": "",
      "children": [
       "IPY_MODEL_29a6f280a322401ebaa4594c08e26793",
       "IPY_MODEL_7a121278e82844348f995996644162c2",
       "IPY_MODEL_3baeb846d002438d97c1266443974b1f"
      ],
      "layout": "IPY_MODEL_ed91bb71424c451e83a197b653b077ec"
     }
    },
    "cf79de8584a041b2ba11f1f1764ec8f6": {
     "model_module": "@jupyter-widgets/base",
     "model_module_version": "1.2.0",
     "model_name": "LayoutModel",
     "state": {
      "_model_module": "@jupyter-widgets/base",
      "_model_module_version": "1.2.0",
      "_model_name": "LayoutModel",
      "_view_count": null,
      "_view_module": "@jupyter-widgets/base",
      "_view_module_version": "1.2.0",
      "_view_name": "LayoutView",
      "align_content": null,
      "align_items": null,
      "align_self": null,
      "border": null,
      "bottom": null,
      "display": null,
      "flex": null,
      "flex_flow": null,
      "grid_area": null,
      "grid_auto_columns": null,
      "grid_auto_flow": null,
      "grid_auto_rows": null,
      "grid_column": null,
      "grid_gap": null,
      "grid_row": null,
      "grid_template_areas": null,
      "grid_template_columns": null,
      "grid_template_rows": null,
      "height": null,
      "justify_content": null,
      "justify_items": null,
      "left": null,
      "margin": null,
      "max_height": null,
      "max_width": null,
      "min_height": null,
      "min_width": null,
      "object_fit": null,
      "object_position": null,
      "order": null,
      "overflow": null,
      "overflow_x": null,
      "overflow_y": null,
      "padding": null,
      "right": null,
      "top": null,
      "visibility": null,
      "width": null
     }
    },
    "d206808337d340588286d38d5686fd16": {
     "model_module": "@jupyter-widgets/controls",
     "model_module_version": "1.5.0",
     "model_name": "HTMLModel",
     "state": {
      "_dom_classes": [],
      "_model_module": "@jupyter-widgets/controls",
      "_model_module_version": "1.5.0",
      "_model_name": "HTMLModel",
      "_view_count": null,
      "_view_module": "@jupyter-widgets/controls",
      "_view_module_version": "1.5.0",
      "_view_name": "HTMLView",
      "description": "",
      "description_tooltip": null,
      "layout": "IPY_MODEL_8d66c92910224f1782d0553e4382967d",
      "placeholder": "​",
      "style": "IPY_MODEL_46caf6c32f4f4c3f92ce83e362f38a7c",
      "value": "Summarize dataset: 100%"
     }
    },
    "d9ce7c325b544794874de52abaf618e8": {
     "model_module": "@jupyter-widgets/base",
     "model_module_version": "1.2.0",
     "model_name": "LayoutModel",
     "state": {
      "_model_module": "@jupyter-widgets/base",
      "_model_module_version": "1.2.0",
      "_model_name": "LayoutModel",
      "_view_count": null,
      "_view_module": "@jupyter-widgets/base",
      "_view_module_version": "1.2.0",
      "_view_name": "LayoutView",
      "align_content": null,
      "align_items": null,
      "align_self": null,
      "border": null,
      "bottom": null,
      "display": null,
      "flex": null,
      "flex_flow": null,
      "grid_area": null,
      "grid_auto_columns": null,
      "grid_auto_flow": null,
      "grid_auto_rows": null,
      "grid_column": null,
      "grid_gap": null,
      "grid_row": null,
      "grid_template_areas": null,
      "grid_template_columns": null,
      "grid_template_rows": null,
      "height": null,
      "justify_content": null,
      "justify_items": null,
      "left": null,
      "margin": null,
      "max_height": null,
      "max_width": null,
      "min_height": null,
      "min_width": null,
      "object_fit": null,
      "object_position": null,
      "order": null,
      "overflow": null,
      "overflow_x": null,
      "overflow_y": null,
      "padding": null,
      "right": null,
      "top": null,
      "visibility": null,
      "width": null
     }
    },
    "da09c06f366d43849a494f69cd9502ea": {
     "model_module": "@jupyter-widgets/controls",
     "model_module_version": "1.5.0",
     "model_name": "ProgressStyleModel",
     "state": {
      "_model_module": "@jupyter-widgets/controls",
      "_model_module_version": "1.5.0",
      "_model_name": "ProgressStyleModel",
      "_view_count": null,
      "_view_module": "@jupyter-widgets/base",
      "_view_module_version": "1.2.0",
      "_view_name": "StyleView",
      "bar_color": null,
      "description_width": ""
     }
    },
    "dc7ba10092344cc1bee7b32225d42ab8": {
     "model_module": "@jupyter-widgets/controls",
     "model_module_version": "1.5.0",
     "model_name": "FloatProgressModel",
     "state": {
      "_dom_classes": [],
      "_model_module": "@jupyter-widgets/controls",
      "_model_module_version": "1.5.0",
      "_model_name": "FloatProgressModel",
      "_view_count": null,
      "_view_module": "@jupyter-widgets/controls",
      "_view_module_version": "1.5.0",
      "_view_name": "ProgressView",
      "bar_style": "success",
      "description": "",
      "description_tooltip": null,
      "layout": "IPY_MODEL_2a393d1c7b134191925b56b59b927200",
      "max": 1,
      "min": 0,
      "orientation": "horizontal",
      "style": "IPY_MODEL_c2a9bc90dce94647a82a3260c6b79999",
      "value": 1
     }
    },
    "dcabdea4495c4ae280b8f139811ea9f8": {
     "model_module": "@jupyter-widgets/base",
     "model_module_version": "1.2.0",
     "model_name": "LayoutModel",
     "state": {
      "_model_module": "@jupyter-widgets/base",
      "_model_module_version": "1.2.0",
      "_model_name": "LayoutModel",
      "_view_count": null,
      "_view_module": "@jupyter-widgets/base",
      "_view_module_version": "1.2.0",
      "_view_name": "LayoutView",
      "align_content": null,
      "align_items": null,
      "align_self": null,
      "border": null,
      "bottom": null,
      "display": null,
      "flex": null,
      "flex_flow": null,
      "grid_area": null,
      "grid_auto_columns": null,
      "grid_auto_flow": null,
      "grid_auto_rows": null,
      "grid_column": null,
      "grid_gap": null,
      "grid_row": null,
      "grid_template_areas": null,
      "grid_template_columns": null,
      "grid_template_rows": null,
      "height": null,
      "justify_content": null,
      "justify_items": null,
      "left": null,
      "margin": null,
      "max_height": null,
      "max_width": null,
      "min_height": null,
      "min_width": null,
      "object_fit": null,
      "object_position": null,
      "order": null,
      "overflow": null,
      "overflow_x": null,
      "overflow_y": null,
      "padding": null,
      "right": null,
      "top": null,
      "visibility": null,
      "width": null
     }
    },
    "e3a6812030ad4aa0b184d58b2a3acd4e": {
     "model_module": "@jupyter-widgets/controls",
     "model_module_version": "1.5.0",
     "model_name": "HTMLModel",
     "state": {
      "_dom_classes": [],
      "_model_module": "@jupyter-widgets/controls",
      "_model_module_version": "1.5.0",
      "_model_name": "HTMLModel",
      "_view_count": null,
      "_view_module": "@jupyter-widgets/controls",
      "_view_module_version": "1.5.0",
      "_view_name": "HTMLView",
      "description": "",
      "description_tooltip": null,
      "layout": "IPY_MODEL_358a38d13595470f9a1b7bd3f42266f1",
      "placeholder": "​",
      "style": "IPY_MODEL_a1fe8dd8a8694e14a6a0f0062cd8333a",
      "value": "Render HTML: 100%"
     }
    },
    "e6951a1824bc4759b88b680f06766ff6": {
     "model_module": "@jupyter-widgets/base",
     "model_module_version": "1.2.0",
     "model_name": "LayoutModel",
     "state": {
      "_model_module": "@jupyter-widgets/base",
      "_model_module_version": "1.2.0",
      "_model_name": "LayoutModel",
      "_view_count": null,
      "_view_module": "@jupyter-widgets/base",
      "_view_module_version": "1.2.0",
      "_view_name": "LayoutView",
      "align_content": null,
      "align_items": null,
      "align_self": null,
      "border": null,
      "bottom": null,
      "display": null,
      "flex": null,
      "flex_flow": null,
      "grid_area": null,
      "grid_auto_columns": null,
      "grid_auto_flow": null,
      "grid_auto_rows": null,
      "grid_column": null,
      "grid_gap": null,
      "grid_row": null,
      "grid_template_areas": null,
      "grid_template_columns": null,
      "grid_template_rows": null,
      "height": null,
      "justify_content": null,
      "justify_items": null,
      "left": null,
      "margin": null,
      "max_height": null,
      "max_width": null,
      "min_height": null,
      "min_width": null,
      "object_fit": null,
      "object_position": null,
      "order": null,
      "overflow": null,
      "overflow_x": null,
      "overflow_y": null,
      "padding": null,
      "right": null,
      "top": null,
      "visibility": null,
      "width": null
     }
    },
    "ed91bb71424c451e83a197b653b077ec": {
     "model_module": "@jupyter-widgets/base",
     "model_module_version": "1.2.0",
     "model_name": "LayoutModel",
     "state": {
      "_model_module": "@jupyter-widgets/base",
      "_model_module_version": "1.2.0",
      "_model_name": "LayoutModel",
      "_view_count": null,
      "_view_module": "@jupyter-widgets/base",
      "_view_module_version": "1.2.0",
      "_view_name": "LayoutView",
      "align_content": null,
      "align_items": null,
      "align_self": null,
      "border": null,
      "bottom": null,
      "display": null,
      "flex": null,
      "flex_flow": null,
      "grid_area": null,
      "grid_auto_columns": null,
      "grid_auto_flow": null,
      "grid_auto_rows": null,
      "grid_column": null,
      "grid_gap": null,
      "grid_row": null,
      "grid_template_areas": null,
      "grid_template_columns": null,
      "grid_template_rows": null,
      "height": null,
      "justify_content": null,
      "justify_items": null,
      "left": null,
      "margin": null,
      "max_height": null,
      "max_width": null,
      "min_height": null,
      "min_width": null,
      "object_fit": null,
      "object_position": null,
      "order": null,
      "overflow": null,
      "overflow_x": null,
      "overflow_y": null,
      "padding": null,
      "right": null,
      "top": null,
      "visibility": null,
      "width": null
     }
    },
    "f15c7f01ff654880881dcfc7201ba35f": {
     "model_module": "@jupyter-widgets/base",
     "model_module_version": "1.2.0",
     "model_name": "LayoutModel",
     "state": {
      "_model_module": "@jupyter-widgets/base",
      "_model_module_version": "1.2.0",
      "_model_name": "LayoutModel",
      "_view_count": null,
      "_view_module": "@jupyter-widgets/base",
      "_view_module_version": "1.2.0",
      "_view_name": "LayoutView",
      "align_content": null,
      "align_items": null,
      "align_self": null,
      "border": null,
      "bottom": null,
      "display": null,
      "flex": null,
      "flex_flow": null,
      "grid_area": null,
      "grid_auto_columns": null,
      "grid_auto_flow": null,
      "grid_auto_rows": null,
      "grid_column": null,
      "grid_gap": null,
      "grid_row": null,
      "grid_template_areas": null,
      "grid_template_columns": null,
      "grid_template_rows": null,
      "height": null,
      "justify_content": null,
      "justify_items": null,
      "left": null,
      "margin": null,
      "max_height": null,
      "max_width": null,
      "min_height": null,
      "min_width": null,
      "object_fit": null,
      "object_position": null,
      "order": null,
      "overflow": null,
      "overflow_x": null,
      "overflow_y": null,
      "padding": null,
      "right": null,
      "top": null,
      "visibility": null,
      "width": null
     }
    },
    "f7bbcdc7fd304f03ac7ecd2082883b67": {
     "model_module": "@jupyter-widgets/base",
     "model_module_version": "1.2.0",
     "model_name": "LayoutModel",
     "state": {
      "_model_module": "@jupyter-widgets/base",
      "_model_module_version": "1.2.0",
      "_model_name": "LayoutModel",
      "_view_count": null,
      "_view_module": "@jupyter-widgets/base",
      "_view_module_version": "1.2.0",
      "_view_name": "LayoutView",
      "align_content": null,
      "align_items": null,
      "align_self": null,
      "border": null,
      "bottom": null,
      "display": null,
      "flex": null,
      "flex_flow": null,
      "grid_area": null,
      "grid_auto_columns": null,
      "grid_auto_flow": null,
      "grid_auto_rows": null,
      "grid_column": null,
      "grid_gap": null,
      "grid_row": null,
      "grid_template_areas": null,
      "grid_template_columns": null,
      "grid_template_rows": null,
      "height": null,
      "justify_content": null,
      "justify_items": null,
      "left": null,
      "margin": null,
      "max_height": null,
      "max_width": null,
      "min_height": null,
      "min_width": null,
      "object_fit": null,
      "object_position": null,
      "order": null,
      "overflow": null,
      "overflow_x": null,
      "overflow_y": null,
      "padding": null,
      "right": null,
      "top": null,
      "visibility": null,
      "width": null
     }
    },
    "f8657fea11004429b1e19f5c57313c34": {
     "model_module": "@jupyter-widgets/controls",
     "model_module_version": "1.5.0",
     "model_name": "ProgressStyleModel",
     "state": {
      "_model_module": "@jupyter-widgets/controls",
      "_model_module_version": "1.5.0",
      "_model_name": "ProgressStyleModel",
      "_view_count": null,
      "_view_module": "@jupyter-widgets/base",
      "_view_module_version": "1.2.0",
      "_view_name": "StyleView",
      "bar_color": null,
      "description_width": ""
     }
    },
    "fc2aa17d53fd49d7acba5841293eddee": {
     "model_module": "@jupyter-widgets/controls",
     "model_module_version": "1.5.0",
     "model_name": "ProgressStyleModel",
     "state": {
      "_model_module": "@jupyter-widgets/controls",
      "_model_module_version": "1.5.0",
      "_model_name": "ProgressStyleModel",
      "_view_count": null,
      "_view_module": "@jupyter-widgets/base",
      "_view_module_version": "1.2.0",
      "_view_name": "StyleView",
      "bar_color": null,
      "description_width": ""
     }
    },
    "fec3f3c2708c4f82a08cd4c9f6b6b1b0": {
     "model_module": "@jupyter-widgets/controls",
     "model_module_version": "1.5.0",
     "model_name": "FloatProgressModel",
     "state": {
      "_dom_classes": [],
      "_model_module": "@jupyter-widgets/controls",
      "_model_module_version": "1.5.0",
      "_model_name": "FloatProgressModel",
      "_view_count": null,
      "_view_module": "@jupyter-widgets/controls",
      "_view_module_version": "1.5.0",
      "_view_name": "ProgressView",
      "bar_style": "success",
      "description": "",
      "description_tooltip": null,
      "layout": "IPY_MODEL_001342ca9012499383aa38b58a24fae1",
      "max": 1,
      "min": 0,
      "orientation": "horizontal",
      "style": "IPY_MODEL_9ccdaf40903345ac8dc6c693e300f449",
      "value": 1
     }
    }
   }
  }
 },
 "nbformat": 4,
 "nbformat_minor": 4
}
